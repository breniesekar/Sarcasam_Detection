{
 "cells": [
  {
   "cell_type": "markdown",
   "metadata": {
    "colab_type": "text",
    "id": "pp68FAQf9aMN"
   },
   "source": [
    "# Sarcasm Detection\n",
    " **Acknowledgement**\n",
    "\n",
    "Misra, Rishabh, and Prahal Arora. \"Sarcasm Detection using Hybrid Neural Network.\" arXiv preprint arXiv:1908.07414 (2019).\n",
    "\n",
    "**Required Files given in below link.**\n",
    "\n",
    "https://drive.google.com/drive/folders/1xUnF35naPGU63xwRDVGc-DkZ3M8V5mMk"
   ]
  },
  {
   "cell_type": "markdown",
   "metadata": {
    "colab_type": "text",
    "id": "S3Wj_mIZ8S3K"
   },
   "source": [
    "## Install `Tensorflow2.0` "
   ]
  },
  {
   "cell_type": "code",
   "execution_count": 0,
   "metadata": {
    "colab": {},
    "colab_type": "code",
    "id": "jW2Uk8otQvi8"
   },
   "outputs": [],
   "source": [
    "!!pip uninstall tensorflow\n",
    "!pip install tensorflow==2.0.0"
   ]
  },
  {
   "cell_type": "code",
   "execution_count": 0,
   "metadata": {
    "colab": {},
    "colab_type": "code",
    "id": "2wJ_VIVE3Syh"
   },
   "outputs": [],
   "source": [
    "# Project Overview\n",
    "# -----------------\n",
    "#  Reading and Exploring Data\n",
    "#  Data Preprocessing\n",
    "#  Word Embeddings\n",
    "#  Model Building \n",
    "#       i)  Fully connected Neural Network \n",
    "#                [Using 300d Glove Embeddings, 200d Glove Embeddings, 100d Glove Embeddings, 50d Glove Embeddings]\n",
    "#       ii) Sequential LSTM   \n",
    "#                [Using 300d Glove Embeddings, 200d Glove Embeddings, 100d Glove Embeddings, 50d Glove Embeddings]\n",
    "#       iii) Bidirectional LSTM \n",
    "#                [Using 300d Glove Embeddings, 200d Glove Embeddings, 100d Glove Embeddings, 50d Glove Embeddings]\n",
    "#  Comparative Report on Accuracy\n"
   ]
  },
  {
   "cell_type": "markdown",
   "metadata": {
    "colab_type": "text",
    "id": "v9kv9tyJ77eF"
   },
   "source": [
    "## Get Required Files from Drive"
   ]
  },
  {
   "cell_type": "code",
   "execution_count": 7,
   "metadata": {
    "colab": {
     "base_uri": "https://localhost:8080/",
     "height": 121
    },
    "colab_type": "code",
    "id": "D0O_n6OIEVyL",
    "outputId": "cc542ac4-aaf1-4541-aeb4-4cdcae6b7084"
   },
   "outputs": [
    {
     "name": "stdout",
     "output_type": "stream",
     "text": [
      "Go to this URL in a browser: https://accounts.google.com/o/oauth2/auth?client_id=947318989803-6bn6qk8qdgf4n4g3pfee6491hc0brc4i.apps.googleusercontent.com&redirect_uri=urn%3aietf%3awg%3aoauth%3a2.0%3aoob&response_type=code&scope=email%20https%3a%2f%2fwww.googleapis.com%2fauth%2fdocs.test%20https%3a%2f%2fwww.googleapis.com%2fauth%2fdrive%20https%3a%2f%2fwww.googleapis.com%2fauth%2fdrive.photos.readonly%20https%3a%2f%2fwww.googleapis.com%2fauth%2fpeopleapi.readonly\n",
      "\n",
      "Enter your authorization code:\n",
      "··········\n",
      "Mounted at /content/drive/\n"
     ]
    }
   ],
   "source": [
    "from google.colab import drive\n",
    "drive.mount('/content/drive/')"
   ]
  },
  {
   "cell_type": "code",
   "execution_count": 0,
   "metadata": {
    "colab": {},
    "colab_type": "code",
    "id": "0mgRpOvFMjKR"
   },
   "outputs": [],
   "source": [
    "#Set your project path \n",
    "project_path =  \"/content/drive/My Drive/Sarcasam Detection/Data/\""
   ]
  },
  {
   "cell_type": "markdown",
   "metadata": {
    "colab_type": "text",
    "id": "WXYwajPeQbRq"
   },
   "source": [
    "### Reading and Exploring Data"
   ]
  },
  {
   "cell_type": "markdown",
   "metadata": {
    "colab_type": "text",
    "id": "vAk6BRUh8CqL"
   },
   "source": [
    "### Reading Data \"Sarcasm_Headlines_Dataset.json\". Explore the data and get  some insights about the data. "
   ]
  },
  {
   "cell_type": "code",
   "execution_count": 83,
   "metadata": {
    "colab": {
     "base_uri": "https://localhost:8080/",
     "height": 195
    },
    "colab_type": "code",
    "id": "StSLB-T8PuGr",
    "outputId": "5011f5df-e828-4f2d-8662-32942a33578a"
   },
   "outputs": [
    {
     "data": {
      "text/html": [
       "<div>\n",
       "<style scoped>\n",
       "    .dataframe tbody tr th:only-of-type {\n",
       "        vertical-align: middle;\n",
       "    }\n",
       "\n",
       "    .dataframe tbody tr th {\n",
       "        vertical-align: top;\n",
       "    }\n",
       "\n",
       "    .dataframe thead th {\n",
       "        text-align: right;\n",
       "    }\n",
       "</style>\n",
       "<table border=\"1\" class=\"dataframe\">\n",
       "  <thead>\n",
       "    <tr style=\"text-align: right;\">\n",
       "      <th></th>\n",
       "      <th>article_link</th>\n",
       "      <th>headline</th>\n",
       "      <th>is_sarcastic</th>\n",
       "    </tr>\n",
       "  </thead>\n",
       "  <tbody>\n",
       "    <tr>\n",
       "      <th>0</th>\n",
       "      <td>https://www.huffingtonpost.com/entry/versace-b...</td>\n",
       "      <td>former versace store clerk sues over secret 'b...</td>\n",
       "      <td>0</td>\n",
       "    </tr>\n",
       "    <tr>\n",
       "      <th>1</th>\n",
       "      <td>https://www.huffingtonpost.com/entry/roseanne-...</td>\n",
       "      <td>the 'roseanne' revival catches up to our thorn...</td>\n",
       "      <td>0</td>\n",
       "    </tr>\n",
       "    <tr>\n",
       "      <th>2</th>\n",
       "      <td>https://local.theonion.com/mom-starting-to-fea...</td>\n",
       "      <td>mom starting to fear son's web series closest ...</td>\n",
       "      <td>1</td>\n",
       "    </tr>\n",
       "    <tr>\n",
       "      <th>3</th>\n",
       "      <td>https://politics.theonion.com/boehner-just-wan...</td>\n",
       "      <td>boehner just wants wife to listen, not come up...</td>\n",
       "      <td>1</td>\n",
       "    </tr>\n",
       "    <tr>\n",
       "      <th>4</th>\n",
       "      <td>https://www.huffingtonpost.com/entry/jk-rowlin...</td>\n",
       "      <td>j.k. rowling wishes snape happy birthday in th...</td>\n",
       "      <td>0</td>\n",
       "    </tr>\n",
       "  </tbody>\n",
       "</table>\n",
       "</div>"
      ],
      "text/plain": [
       "                                        article_link  ... is_sarcastic\n",
       "0  https://www.huffingtonpost.com/entry/versace-b...  ...            0\n",
       "1  https://www.huffingtonpost.com/entry/roseanne-...  ...            0\n",
       "2  https://local.theonion.com/mom-starting-to-fea...  ...            1\n",
       "3  https://politics.theonion.com/boehner-just-wan...  ...            1\n",
       "4  https://www.huffingtonpost.com/entry/jk-rowlin...  ...            0\n",
       "\n",
       "[5 rows x 3 columns]"
      ]
     },
     "execution_count": 83,
     "metadata": {
      "tags": []
     },
     "output_type": "execute_result"
    }
   ],
   "source": [
    "import pandas as pd\n",
    "dataframe=pd.read_json(path_or_buf=project_path+'Sarcasm_Headlines_Dataset.json', lines='True')\n",
    "dataframe.head()"
   ]
  },
  {
   "cell_type": "markdown",
   "metadata": {
    "colab_type": "text",
    "id": "z6pXf7A78E2H"
   },
   "source": [
    "## Droping `article_link` from dataset.\n",
    "As we only need headline text data and is_sarcastic column for this project. We can drop artical link column here."
   ]
  },
  {
   "cell_type": "code",
   "execution_count": 84,
   "metadata": {
    "colab": {
     "base_uri": "https://localhost:8080/",
     "height": 195
    },
    "colab_type": "code",
    "id": "VLSVsvrlP9qD",
    "outputId": "8b2c10a8-1683-413e-cbcc-74db55839457"
   },
   "outputs": [
    {
     "data": {
      "text/html": [
       "<div>\n",
       "<style scoped>\n",
       "    .dataframe tbody tr th:only-of-type {\n",
       "        vertical-align: middle;\n",
       "    }\n",
       "\n",
       "    .dataframe tbody tr th {\n",
       "        vertical-align: top;\n",
       "    }\n",
       "\n",
       "    .dataframe thead th {\n",
       "        text-align: right;\n",
       "    }\n",
       "</style>\n",
       "<table border=\"1\" class=\"dataframe\">\n",
       "  <thead>\n",
       "    <tr style=\"text-align: right;\">\n",
       "      <th></th>\n",
       "      <th>headline</th>\n",
       "      <th>is_sarcastic</th>\n",
       "    </tr>\n",
       "  </thead>\n",
       "  <tbody>\n",
       "    <tr>\n",
       "      <th>0</th>\n",
       "      <td>former versace store clerk sues over secret 'b...</td>\n",
       "      <td>0</td>\n",
       "    </tr>\n",
       "    <tr>\n",
       "      <th>1</th>\n",
       "      <td>the 'roseanne' revival catches up to our thorn...</td>\n",
       "      <td>0</td>\n",
       "    </tr>\n",
       "    <tr>\n",
       "      <th>2</th>\n",
       "      <td>mom starting to fear son's web series closest ...</td>\n",
       "      <td>1</td>\n",
       "    </tr>\n",
       "    <tr>\n",
       "      <th>3</th>\n",
       "      <td>boehner just wants wife to listen, not come up...</td>\n",
       "      <td>1</td>\n",
       "    </tr>\n",
       "    <tr>\n",
       "      <th>4</th>\n",
       "      <td>j.k. rowling wishes snape happy birthday in th...</td>\n",
       "      <td>0</td>\n",
       "    </tr>\n",
       "  </tbody>\n",
       "</table>\n",
       "</div>"
      ],
      "text/plain": [
       "                                            headline  is_sarcastic\n",
       "0  former versace store clerk sues over secret 'b...             0\n",
       "1  the 'roseanne' revival catches up to our thorn...             0\n",
       "2  mom starting to fear son's web series closest ...             1\n",
       "3  boehner just wants wife to listen, not come up...             1\n",
       "4  j.k. rowling wishes snape happy birthday in th...             0"
      ]
     },
     "execution_count": 84,
     "metadata": {
      "tags": []
     },
     "output_type": "execute_result"
    }
   ],
   "source": [
    "dataframe.drop(columns=['article_link'], inplace=True)\n",
    "dataframe.head()"
   ]
  },
  {
   "cell_type": "markdown",
   "metadata": {
    "colab_type": "text",
    "id": "tT5qFlx8Op7w"
   },
   "source": [
    "## Data Preprocessing \n",
    "\n",
    "\n",
    "*   Converting all into lower cases\n",
    "*   Removal of symbols and punctuations.\n",
    "\n",
    "\n"
   ]
  },
  {
   "cell_type": "code",
   "execution_count": 86,
   "metadata": {
    "colab": {
     "base_uri": "https://localhost:8080/",
     "height": 195
    },
    "colab_type": "code",
    "id": "ibiNi1Kd7x3U",
    "outputId": "3c4092e2-d817-4934-cbfa-db3450d64101"
   },
   "outputs": [
    {
     "data": {
      "text/html": [
       "<div>\n",
       "<style scoped>\n",
       "    .dataframe tbody tr th:only-of-type {\n",
       "        vertical-align: middle;\n",
       "    }\n",
       "\n",
       "    .dataframe tbody tr th {\n",
       "        vertical-align: top;\n",
       "    }\n",
       "\n",
       "    .dataframe thead th {\n",
       "        text-align: right;\n",
       "    }\n",
       "</style>\n",
       "<table border=\"1\" class=\"dataframe\">\n",
       "  <thead>\n",
       "    <tr style=\"text-align: right;\">\n",
       "      <th></th>\n",
       "      <th>headline</th>\n",
       "      <th>is_sarcastic</th>\n",
       "    </tr>\n",
       "  </thead>\n",
       "  <tbody>\n",
       "    <tr>\n",
       "      <th>0</th>\n",
       "      <td>former versace store clerk sues over secret bl...</td>\n",
       "      <td>0</td>\n",
       "    </tr>\n",
       "    <tr>\n",
       "      <th>1</th>\n",
       "      <td>the roseanne revival catches up to our thorny ...</td>\n",
       "      <td>0</td>\n",
       "    </tr>\n",
       "    <tr>\n",
       "      <th>2</th>\n",
       "      <td>mom starting to fear sons web series closest t...</td>\n",
       "      <td>1</td>\n",
       "    </tr>\n",
       "    <tr>\n",
       "      <th>3</th>\n",
       "      <td>boehner just wants wife to listen not come up ...</td>\n",
       "      <td>1</td>\n",
       "    </tr>\n",
       "    <tr>\n",
       "      <th>4</th>\n",
       "      <td>jk rowling wishes snape happy birthday in the ...</td>\n",
       "      <td>0</td>\n",
       "    </tr>\n",
       "  </tbody>\n",
       "</table>\n",
       "</div>"
      ],
      "text/plain": [
       "                                            headline  is_sarcastic\n",
       "0  former versace store clerk sues over secret bl...             0\n",
       "1  the roseanne revival catches up to our thorny ...             0\n",
       "2  mom starting to fear sons web series closest t...             1\n",
       "3  boehner just wants wife to listen not come up ...             1\n",
       "4  jk rowling wishes snape happy birthday in the ...             0"
      ]
     },
     "execution_count": 86,
     "metadata": {
      "tags": []
     },
     "output_type": "execute_result"
    }
   ],
   "source": [
    "import re\n",
    "dataframe['headline']=dataframe['headline'].apply(lambda x:x.lower())\n",
    "dataframe['headline']=dataframe['headline'].apply((lambda x: re.sub('[^a-zA-Z0-9\\s]','',x)))\n",
    "dataframe.head()"
   ]
  },
  {
   "cell_type": "markdown",
   "metadata": {
    "colab_type": "text",
    "id": "D0h6IOxU8OdH"
   },
   "source": [
    "## Getting the Length of each line and find the maximum length.\n",
    "As different lines are of different length. We need to pad the our sequences using the max length."
   ]
  },
  {
   "cell_type": "code",
   "execution_count": 87,
   "metadata": {
    "colab": {
     "base_uri": "https://localhost:8080/",
     "height": 34
    },
    "colab_type": "code",
    "id": "BRAsChZAQmr3",
    "outputId": "a87d1ff9-663a-4e83-ef7a-49cbf1f97c77"
   },
   "outputs": [
    {
     "data": {
      "text/plain": [
       "26709"
      ]
     },
     "execution_count": 87,
     "metadata": {
      "tags": []
     },
     "output_type": "execute_result"
    }
   ],
   "source": [
    "x=dataframe['headline']\n",
    "len(x) # The given dataset contains 26709 "
   ]
  },
  {
   "cell_type": "code",
   "execution_count": 0,
   "metadata": {
    "colab": {},
    "colab_type": "code",
    "id": "d9qXqxSp9L1L"
   },
   "outputs": [],
   "source": [
    "temp=[]\n",
    "for i in range(len(x)):\n",
    "  temp.append(len(x[i]))\n",
    "# print('The length of each sequence is ', temp)"
   ]
  },
  {
   "cell_type": "code",
   "execution_count": 89,
   "metadata": {
    "colab": {
     "base_uri": "https://localhost:8080/",
     "height": 34
    },
    "colab_type": "code",
    "id": "vUWAAIGC9U57",
    "outputId": "f9adcfbf-7181-44fb-c697-152a561bb8db"
   },
   "outputs": [
    {
     "name": "stdout",
     "output_type": "stream",
     "text": [
      "Maximum length statement is : 237\n"
     ]
    }
   ],
   "source": [
    "print('Maximum length statement is :', max(temp))    #Finding the maximum length"
   ]
  },
  {
   "cell_type": "code",
   "execution_count": 90,
   "metadata": {
    "colab": {
     "base_uri": "https://localhost:8080/",
     "height": 34
    },
    "colab_type": "code",
    "id": "lC2O4pxdQ2hj",
    "outputId": "c8ab7e40-7ae2-41d6-99cd-2677239c0e61"
   },
   "outputs": [
    {
     "name": "stdout",
     "output_type": "stream",
     "text": [
      "Minimum length statement is : 5\n"
     ]
    }
   ],
   "source": [
    "print('Minimum length statement is :', min(temp))    # Finding the minimum length"
   ]
  },
  {
   "cell_type": "markdown",
   "metadata": {
    "colab_type": "text",
    "id": "ER5x1mG2QCba"
   },
   "source": [
    "# Explore the data and get some insights about the data."
   ]
  },
  {
   "cell_type": "code",
   "execution_count": 91,
   "metadata": {
    "colab": {
     "base_uri": "https://localhost:8080/",
     "height": 265
    },
    "colab_type": "code",
    "id": "rDRYE4k0DlUI",
    "outputId": "a83f8dc5-19b2-424e-cdc4-a36a1a777283"
   },
   "outputs": [
    {
     "data": {
      "image/png": "[encoded data removed]",
      "text/plain": [
       "<Figure size 432x288 with 1 Axes>"
      ]
     },
     "metadata": {
      "needs_background": "light",
      "tags": []
     },
     "output_type": "display_data"
    }
   ],
   "source": [
    "temp1 = dict( (l, temp.count(l) ) for l in set(temp))\n",
    "\n",
    "import matplotlib.pyplot as plt\n",
    "import numpy as np\n",
    "plt.plot(list(temp1.keys()), list(temp1.values()))\n",
    "plt.show()    # Plotting to understand more about the dataset\n",
    "# Most of the given statement ranges beween the length 45 to 75"
   ]
  },
  {
   "cell_type": "code",
   "execution_count": 92,
   "metadata": {
    "colab": {
     "base_uri": "https://localhost:8080/",
     "height": 330
    },
    "colab_type": "code",
    "id": "PELBBfod-VMe",
    "outputId": "7f5a55a7-82fd-43cf-cf88-aeb9b7850a87"
   },
   "outputs": [
    {
     "data": {
      "text/plain": [
       "0    14985\n",
       "1    11724\n",
       "Name: is_sarcastic, dtype: int64"
      ]
     },
     "execution_count": 92,
     "metadata": {
      "tags": []
     },
     "output_type": "execute_result"
    },
    {
     "data": {
      "image/png": "[encoded data removed]",
      "text/plain": [
       "<Figure size 432x288 with 1 Axes>"
      ]
     },
     "metadata": {
      "needs_background": "light",
      "tags": []
     },
     "output_type": "display_data"
    }
   ],
   "source": [
    "import seaborn as sns\n",
    "sns.countplot(dataframe['is_sarcastic'])\n",
    "dataframe['is_sarcastic'].value_counts()"
   ]
  },
  {
   "cell_type": "markdown",
   "metadata": {
    "colab_type": "text",
    "id": "boERnkcTQS7d"
   },
   "source": [
    " ### **Insights about the given Data **\n",
    "\n",
    "1. Number of statements given in the dataset - 26709.\n",
    "2. Sarcastic Statement                       - 11624\n",
    "3. Non Sarcastic Statement                   - 14985\n",
    "4. Maximum length of statement is            -   237\n",
    "5. Minimum length of statement is            -     5\n",
    "6. Most of the given statement ranges beween the length 45 to 75\n",
    "\n",
    "\n"
   ]
  },
  {
   "cell_type": "markdown",
   "metadata": {
    "colab_type": "text",
    "id": "VPPd0YuPXi2M"
   },
   "source": [
    "#**## Modelling**"
   ]
  },
  {
   "cell_type": "markdown",
   "metadata": {
    "colab_type": "text",
    "id": "35abKfRx8as3"
   },
   "source": [
    "## Import required modules required for modelling."
   ]
  },
  {
   "cell_type": "code",
   "execution_count": 0,
   "metadata": {
    "colab": {},
    "colab_type": "code",
    "id": "DVel73hYEV4r"
   },
   "outputs": [],
   "source": [
    "import numpy as np\n",
    "from tensorflow.keras.preprocessing.text import Tokenizer\n",
    "from tensorflow.keras.preprocessing.sequence import pad_sequences\n",
    "from tensorflow.keras.layers import Dense, Input, LSTM, Embedding, Dropout, Activation, Flatten, Bidirectional, GlobalMaxPool1D\n",
    "from tensorflow.keras.models import Model, Sequential\n",
    "from tensorflow.keras.layers import TimeDistributed"
   ]
  },
  {
   "cell_type": "markdown",
   "metadata": {
    "colab_type": "text",
    "id": "9ziybaD1RdD9"
   },
   "source": [
    "# Set Different Parameters for the model."
   ]
  },
  {
   "cell_type": "code",
   "execution_count": 0,
   "metadata": {
    "colab": {},
    "colab_type": "code",
    "id": "jPw9gAN_EV6m"
   },
   "outputs": [],
   "source": [
    "max_features = 10000\n",
    "maxlen = max(temp)                # 237\n",
    "embedding_size_300d = 300         #[for 300 dimensional glove embeddings]\n",
    "embedding_size_200d = 200         #[for 200 dimensional glove embeddings]\n",
    "embedding_size_100d = 100         #[for 100 dimensional glove embeddings]\n",
    "embedding_size_50d = 50           #[for 50 dimensional glove embeddings]   "
   ]
  },
  {
   "cell_type": "markdown",
   "metadata": {
    "colab_type": "text",
    "id": "9abSe-bM8fn9"
   },
   "source": [
    "## Apply Keras Tokenizer of headline column of your data.\n",
    "Hint - First create a tokenizer instance using Tokenizer(num_words=max_features) \n",
    "And then fit this tokenizer instance on your data column df['headline'] using .fit_on_texts()"
   ]
  },
  {
   "cell_type": "code",
   "execution_count": 0,
   "metadata": {
    "colab": {},
    "colab_type": "code",
    "id": "T9Ad26HfTFMS"
   },
   "outputs": [],
   "source": [
    "tokenizer=Tokenizer(num_words=max_features, split=' ')\n",
    "tokenizer.fit_on_texts(dataframe['headline'].values)"
   ]
  },
  {
   "cell_type": "markdown",
   "metadata": {
    "colab_type": "text",
    "id": "0Ffi63KsST3P"
   },
   "source": [
    "# Define X and y for your model."
   ]
  },
  {
   "cell_type": "code",
   "execution_count": 96,
   "metadata": {
    "colab": {
     "base_uri": "https://localhost:8080/",
     "height": 353
    },
    "colab_type": "code",
    "id": "wnjxBdqmSS4s",
    "outputId": "42134809-8999-48c7-ad49-9ffd0654d963"
   },
   "outputs": [
    {
     "name": "stdout",
     "output_type": "stream",
     "text": [
      "Number of Samples: 26709\n",
      "[   0    0    0    0    0    0    0    0    0    0    0    0    0    0\n",
      "    0    0    0    0    0    0    0    0    0    0    0    0    0    0\n",
      "    0    0    0    0    0    0    0    0    0    0    0    0    0    0\n",
      "    0    0    0    0    0    0    0    0    0    0    0    0    0    0\n",
      "    0    0    0    0    0    0    0    0    0    0    0    0    0    0\n",
      "    0    0    0    0    0    0    0    0    0    0    0    0    0    0\n",
      "    0    0    0    0    0    0    0    0    0    0    0    0    0    0\n",
      "    0    0    0    0    0    0    0    0    0    0    0    0    0    0\n",
      "    0    0    0    0    0    0    0    0    0    0    0    0    0    0\n",
      "    0    0    0    0    0    0    0    0    0    0    0    0    0    0\n",
      "    0    0    0    0    0    0    0    0    0    0    0    0    0    0\n",
      "    0    0    0    0    0    0    0    0    0    0    0    0    0    0\n",
      "    0    0    0    0    0    0    0    0    0    0    0    0    0    0\n",
      "    0    0    0    0    0    0    0    0    0    0    0    0    0    0\n",
      "    0    0    0    0    0    0    0    0    0    0    0    0    0    0\n",
      "    0    0    0    0    0    0    0    0    0    0    0    0    0    0\n",
      "    0    0  293  795 3551 2241   47  359   92 2138    5 2509 8285]\n",
      "Number of Labels:  26709\n",
      "0\n"
     ]
    }
   ],
   "source": [
    "X = tokenizer.texts_to_sequences(dataframe['headline'])\n",
    "X = pad_sequences(X, maxlen = maxlen)\n",
    "y = np.asarray(dataframe['is_sarcastic'])\n",
    "\n",
    "print(\"Number of Samples:\", len(X))\n",
    "print(X[0])\n",
    "print(\"Number of Labels: \", len(y))\n",
    "print(y[0])"
   ]
  },
  {
   "cell_type": "code",
   "execution_count": 97,
   "metadata": {
    "colab": {
     "base_uri": "https://localhost:8080/",
     "height": 34
    },
    "colab_type": "code",
    "id": "eUG9CKb4APrB",
    "outputId": "9ac402f7-8753-44fd-d9c4-299d118df1a4"
   },
   "outputs": [
    {
     "data": {
      "text/plain": [
       "(26709, 237)"
      ]
     },
     "execution_count": 97,
     "metadata": {
      "tags": []
     },
     "output_type": "execute_result"
    }
   ],
   "source": [
    "X.shape"
   ]
  },
  {
   "cell_type": "code",
   "execution_count": 98,
   "metadata": {
    "colab": {
     "base_uri": "https://localhost:8080/",
     "height": 34
    },
    "colab_type": "code",
    "id": "OZrGrXr2MuFx",
    "outputId": "4b425d91-4b2b-4a0c-b02c-d3c9de7a5083"
   },
   "outputs": [
    {
     "data": {
      "text/plain": [
       "(26709,)"
      ]
     },
     "execution_count": 98,
     "metadata": {
      "tags": []
     },
     "output_type": "execute_result"
    }
   ],
   "source": [
    "y.shape"
   ]
  },
  {
   "cell_type": "markdown",
   "metadata": {
    "colab_type": "text",
    "id": "WJLyKg-98rH_"
   },
   "source": [
    "## Get the Vocabulary size \n",
    "Hint : You can use tokenizer.word_index."
   ]
  },
  {
   "cell_type": "code",
   "execution_count": 0,
   "metadata": {
    "colab": {},
    "colab_type": "code",
    "id": "q-2w0gHEUUIo"
   },
   "outputs": [],
   "source": [
    "vocabulary = tokenizer.word_index\n",
    "vocabulary_size = len(tokenizer.word_index)+1  # +1 is used, since tokenizer.word_index assigns '0' for oov_token"
   ]
  },
  {
   "cell_type": "code",
   "execution_count": 100,
   "metadata": {
    "colab": {
     "base_uri": "https://localhost:8080/",
     "height": 185
    },
    "colab_type": "code",
    "id": "dgiFaqhlYb3f",
    "outputId": "09688df6-a8cd-4d6d-bfe9-1302955e9106"
   },
   "outputs": [
    {
     "data": {
      "text/plain": [
       "[('to', 1),\n",
       " ('of', 2),\n",
       " ('the', 3),\n",
       " ('in', 4),\n",
       " ('for', 5),\n",
       " ('a', 6),\n",
       " ('on', 7),\n",
       " ('and', 8),\n",
       " ('with', 9),\n",
       " ('is', 10)]"
      ]
     },
     "execution_count": 100,
     "metadata": {
      "tags": []
     },
     "output_type": "execute_result"
    }
   ],
   "source": [
    "list(vocabulary.items())[:10]"
   ]
  },
  {
   "cell_type": "code",
   "execution_count": 101,
   "metadata": {
    "colab": {
     "base_uri": "https://localhost:8080/",
     "height": 34
    },
    "colab_type": "code",
    "id": "NePzIYqGAggw",
    "outputId": "4f45e10d-e927-4272-f300-0dcad41cc6a1"
   },
   "outputs": [
    {
     "data": {
      "text/plain": [
       "28399"
      ]
     },
     "execution_count": 101,
     "metadata": {
      "tags": []
     },
     "output_type": "execute_result"
    }
   ],
   "source": [
    "len (vocabulary)"
   ]
  },
  {
   "cell_type": "code",
   "execution_count": 0,
   "metadata": {
    "colab": {},
    "colab_type": "code",
    "id": "ECviKiNuizJq"
   },
   "outputs": [],
   "source": [
    "# vocabulary had 28399 words "
   ]
  },
  {
   "cell_type": "markdown",
   "metadata": {
    "colab_type": "text",
    "id": "5hjeMi40XcB1"
   },
   "source": [
    "#**## Word Embedding**"
   ]
  },
  {
   "cell_type": "markdown",
   "metadata": {
    "colab_type": "text",
    "id": "bUF1TuQa8ux0"
   },
   "source": [
    "## Get Glove Word Embeddings"
   ]
  },
  {
   "cell_type": "code",
   "execution_count": 0,
   "metadata": {
    "colab": {},
    "colab_type": "code",
    "id": "vq5AIfRtMeZh"
   },
   "outputs": [],
   "source": [
    "glove_file = project_path + \"glove.6B.zip\""
   ]
  },
  {
   "cell_type": "code",
   "execution_count": 0,
   "metadata": {
    "colab": {},
    "colab_type": "code",
    "id": "DJLX_n2WMecA"
   },
   "outputs": [],
   "source": [
    "#Extract Glove embedding zip file\n",
    "from zipfile import ZipFile\n",
    "with ZipFile(glove_file, 'r') as z:\n",
    "  z.extractall()"
   ]
  },
  {
   "cell_type": "markdown",
   "metadata": {
    "colab_type": "text",
    "id": "9IuXlu8-U3HG"
   },
   "source": [
    "# Get the Word Embeddings using Embedding file as given below."
   ]
  },
  {
   "cell_type": "markdown",
   "metadata": {
    "colab_type": "text",
    "id": "OxKlUgVjCkE9"
   },
   "source": [
    "Glove Embedding with 300 Dimensions"
   ]
  },
  {
   "cell_type": "code",
   "execution_count": 105,
   "metadata": {
    "colab": {
     "base_uri": "https://localhost:8080/",
     "height": 50
    },
    "colab_type": "code",
    "id": "elZ-T5aFGZmZ",
    "outputId": "3c906a7b-ed65-4e29-9caf-803a31230b49"
   },
   "outputs": [
    {
     "name": "stdout",
     "output_type": "stream",
     "text": [
      "Total no. of words in the  Glove Embedding : 400000\n",
      "Length of each Embeddings : 300\n"
     ]
    }
   ],
   "source": [
    "EMBEDDING_FILE_300d = './glove.6B.300d.txt'\n",
    "embeddings_300d = {}\n",
    "for o in open(EMBEDDING_FILE_300d):\n",
    "    word_300d = o.split(\" \")[0]\n",
    "    # print(word_300d)\n",
    "    embd_300d = o.split(\" \")[1:]\n",
    "    embd_300d = np.asarray(embd_300d, dtype='float32')\n",
    "    # print(embd_300d)\n",
    "    embeddings_300d[word_300d] = embd_300d\n",
    "print('Total no. of words in the  Glove Embedding :', len(embeddings_300d))\n",
    "print('Length of each Embeddings :', len(embd_300d))"
   ]
  },
  {
   "cell_type": "markdown",
   "metadata": {
    "colab_type": "text",
    "id": "AEhUAeIxDFOr"
   },
   "source": [
    "Glove Embedding with 200 Dimensions"
   ]
  },
  {
   "cell_type": "code",
   "execution_count": 106,
   "metadata": {
    "colab": {
     "base_uri": "https://localhost:8080/",
     "height": 50
    },
    "colab_type": "code",
    "id": "6IrlF7dpIwLz",
    "outputId": "60d88075-f643-4e78-f48b-f03795fd9386"
   },
   "outputs": [
    {
     "name": "stdout",
     "output_type": "stream",
     "text": [
      "Total no. of words in the  Glove Embedding : 400000\n",
      "Length of each Embeddings : 200\n"
     ]
    }
   ],
   "source": [
    "EMBEDDING_FILE_200d = './glove.6B.200d.txt'\n",
    "embeddings_200d = {}\n",
    "for o in open(EMBEDDING_FILE_200d):\n",
    "    word_200d = o.split(\" \")[0]\n",
    "    # print(word_200d)\n",
    "    embd_200d = o.split(\" \")[1:]\n",
    "    embd_200d = np.asarray(embd_200d, dtype='float32')\n",
    "    # print(embd_200d)\n",
    "    embeddings_200d[word_200d] = embd_200d\n",
    "print('Total no. of words in the  Glove Embedding :', len(embeddings_200d))\n",
    "print('Length of each Embeddings :', len(embd_200d))"
   ]
  },
  {
   "cell_type": "markdown",
   "metadata": {
    "colab_type": "text",
    "id": "JPP4XU86MnYB"
   },
   "source": [
    "Glove Embedding with 100 Dimensions"
   ]
  },
  {
   "cell_type": "code",
   "execution_count": 107,
   "metadata": {
    "colab": {
     "base_uri": "https://localhost:8080/",
     "height": 50
    },
    "colab_type": "code",
    "id": "qJISJ4URB4cW",
    "outputId": "5ec7405d-66d2-49c8-ad81-48377b752ed9"
   },
   "outputs": [
    {
     "name": "stdout",
     "output_type": "stream",
     "text": [
      "Total no. of words in the  Glove Embedding : 400000\n",
      "Length of each Embeddings : 100\n"
     ]
    }
   ],
   "source": [
    "EMBEDDING_FILE_100d = './glove.6B.100d.txt'\n",
    "embeddings_100d = {}\n",
    "for o in open(EMBEDDING_FILE_100d):\n",
    "    word_100d = o.split(\" \")[0]\n",
    "    # print(word_100d)\n",
    "    embd_100d = o.split(\" \")[1:]\n",
    "    embd_100d = np.asarray(embd_100d, dtype='float32')\n",
    "    # print(embd_100d)\n",
    "    embeddings_100d[word_100d] = embd_100d\n",
    "print('Total no. of words in the  Glove Embedding :', len(embeddings_100d))\n",
    "print('Length of each Embeddings :', len(embd_100d))"
   ]
  },
  {
   "cell_type": "markdown",
   "metadata": {
    "colab_type": "text",
    "id": "HF3rw-LrNE-p"
   },
   "source": [
    "Glove Embedding with 50 Dimensions"
   ]
  },
  {
   "cell_type": "code",
   "execution_count": 108,
   "metadata": {
    "colab": {
     "base_uri": "https://localhost:8080/",
     "height": 50
    },
    "colab_type": "code",
    "id": "U2pHpaOICP_k",
    "outputId": "fce97ee9-f64d-4b4c-bfdd-cd13e4db6080"
   },
   "outputs": [
    {
     "name": "stdout",
     "output_type": "stream",
     "text": [
      "Total no. of words in the  Glove Embedding : 400000\n",
      "Length of each Embeddings : 50\n"
     ]
    }
   ],
   "source": [
    "EMBEDDING_FILE_50d = './glove.6B.50d.txt'\n",
    "embeddings_50d = {}\n",
    "for o in open(EMBEDDING_FILE_50d):\n",
    "    word_50d = o.split(\" \")[0]\n",
    "    # print(word_50d)\n",
    "    embd_50d = o.split(\" \")[1:]\n",
    "    embd_50d = np.asarray(embd_50d, dtype='float32')\n",
    "    # print(embd_50d)\n",
    "    embeddings_50d[word_50d] = embd_50d\n",
    "print('Total no. of words in the  Glove Embedding :', len(embeddings_50d))\n",
    "print('Length of each Embeddings :', len(embd_50d))"
   ]
  },
  {
   "cell_type": "markdown",
   "metadata": {
    "colab_type": "text",
    "id": "bTPxveDmVCrA"
   },
   "source": [
    "# Create a weight matrix for words in training docs"
   ]
  },
  {
   "cell_type": "markdown",
   "metadata": {
    "colab_type": "text",
    "id": "9JmT4G0pcUIX"
   },
   "source": [
    "Creating Weight Matrix : For 300 Dimension Embeddings"
   ]
  },
  {
   "cell_type": "code",
   "execution_count": 109,
   "metadata": {
    "colab": {
     "base_uri": "https://localhost:8080/",
     "height": 34
    },
    "colab_type": "code",
    "id": "xQgOhiywU9nU",
    "outputId": "c66d4959-3708-418d-c1c7-159de4776c3d"
   },
   "outputs": [
    {
     "data": {
      "text/plain": [
       "(28400, 300)"
      ]
     },
     "execution_count": 109,
     "metadata": {
      "tags": []
     },
     "output_type": "execute_result"
    }
   ],
   "source": [
    "num_words=vocabulary_size\n",
    "embedding_matrix_300d = np.zeros((num_words, 300))\n",
    "for word, i in tokenizer.word_index.items():\n",
    "    # print(word)\n",
    "    embedding_vector = embeddings_300d.get(word)\n",
    "    if embedding_vector is not None:\n",
    "        embedding_matrix_300d[i] = embedding_vector\n",
    "#len(embeddings_300d.values())\n",
    "embedding_matrix_300d.shape"
   ]
  },
  {
   "cell_type": "markdown",
   "metadata": {
    "colab_type": "text",
    "id": "lYlcWy4leZef"
   },
   "source": [
    "Creating Weight Matrix : For 200 Dimension Embeddings"
   ]
  },
  {
   "cell_type": "code",
   "execution_count": 110,
   "metadata": {
    "colab": {
     "base_uri": "https://localhost:8080/",
     "height": 34
    },
    "colab_type": "code",
    "id": "gZ6NakJWc7MF",
    "outputId": "4cd680f5-96c6-4048-e350-df27d3d38985"
   },
   "outputs": [
    {
     "data": {
      "text/plain": [
       "(28400, 200)"
      ]
     },
     "execution_count": 110,
     "metadata": {
      "tags": []
     },
     "output_type": "execute_result"
    }
   ],
   "source": [
    "num_words=vocabulary_size\n",
    "embedding_matrix_200d = np.zeros((num_words, 200))\n",
    "for word, i in tokenizer.word_index.items():\n",
    "    # print(word)\n",
    "    embedding_vector = embeddings_200d.get(word)\n",
    "    if embedding_vector is not None:\n",
    "        embedding_matrix_200d[i] = embedding_vector\n",
    "#len(embeddings_200d.values())\n",
    "embedding_matrix_200d.shape"
   ]
  },
  {
   "cell_type": "markdown",
   "metadata": {
    "colab_type": "text",
    "id": "-J5dJFFaenAn"
   },
   "source": [
    "Creating Weight Matrix : For 100 Dimension Embeddings"
   ]
  },
  {
   "cell_type": "code",
   "execution_count": 111,
   "metadata": {
    "colab": {
     "base_uri": "https://localhost:8080/",
     "height": 34
    },
    "colab_type": "code",
    "id": "OFR_2zJkcKyI",
    "outputId": "9686090f-6791-4d17-ad3c-77d3e1869664"
   },
   "outputs": [
    {
     "data": {
      "text/plain": [
       "(28400, 100)"
      ]
     },
     "execution_count": 111,
     "metadata": {
      "tags": []
     },
     "output_type": "execute_result"
    }
   ],
   "source": [
    "num_words=vocabulary_size\n",
    "embedding_matrix_100d = np.zeros((num_words, 100))\n",
    "for word, i in tokenizer.word_index.items():\n",
    "    # print(word)\n",
    "    embedding_vector = embeddings_100d.get(word)\n",
    "    if embedding_vector is not None:\n",
    "        embedding_matrix_100d[i] = embedding_vector\n",
    "#len(embeddings_100d.values())\n",
    "embedding_matrix_100d.shape"
   ]
  },
  {
   "cell_type": "markdown",
   "metadata": {
    "colab_type": "text",
    "id": "jVP0s3pce7oL"
   },
   "source": [
    "Creating Weight Matrix : For 50 Dimension Embeddings"
   ]
  },
  {
   "cell_type": "code",
   "execution_count": 112,
   "metadata": {
    "colab": {
     "base_uri": "https://localhost:8080/",
     "height": 34
    },
    "colab_type": "code",
    "id": "RpTVhJM0e8vx",
    "outputId": "f814ece1-1907-4e3b-dc8d-ec75b596caa6"
   },
   "outputs": [
    {
     "data": {
      "text/plain": [
       "(28400, 50)"
      ]
     },
     "execution_count": 112,
     "metadata": {
      "tags": []
     },
     "output_type": "execute_result"
    }
   ],
   "source": [
    "num_words=vocabulary_size\n",
    "embedding_matrix_50d = np.zeros((num_words, 50))\n",
    "for word, i in tokenizer.word_index.items():\n",
    "    # print(word)\n",
    "    embedding_vector = embeddings_50d.get(word)\n",
    "    if embedding_vector is not None:\n",
    "        embedding_matrix_50d[i] = embedding_vector\n",
    "#len(embeddings_50d.values())\n",
    "embedding_matrix_50d.shape"
   ]
  },
  {
   "cell_type": "markdown",
   "metadata": {
    "colab_type": "text",
    "id": "RuE-EVEmldrj"
   },
   "source": [
    "## Splitting the dataset into training and validation dataset  (validation_split = 0.2)\n"
   ]
  },
  {
   "cell_type": "code",
   "execution_count": 0,
   "metadata": {
    "colab": {},
    "colab_type": "code",
    "id": "1zFrgBmPlc8l"
   },
   "outputs": [],
   "source": [
    "from sklearn.model_selection import train_test_split\n",
    "X_train,X_test,y_train,y_test=train_test_split(X,y,test_size=0.2, random_state=1)"
   ]
  },
  {
   "cell_type": "code",
   "execution_count": 114,
   "metadata": {
    "colab": {
     "base_uri": "https://localhost:8080/",
     "height": 34
    },
    "colab_type": "code",
    "id": "ELUcg_nOl0-Q",
    "outputId": "973376d5-6ccb-4f20-d475-af6480958182"
   },
   "outputs": [
    {
     "data": {
      "text/plain": [
       "(21367, 237)"
      ]
     },
     "execution_count": 114,
     "metadata": {
      "tags": []
     },
     "output_type": "execute_result"
    }
   ],
   "source": [
    "X_train.shape"
   ]
  },
  {
   "cell_type": "code",
   "execution_count": 115,
   "metadata": {
    "colab": {
     "base_uri": "https://localhost:8080/",
     "height": 34
    },
    "colab_type": "code",
    "id": "4B8cesl4l3-l",
    "outputId": "097592db-363b-49d2-a6eb-2025f0d77b06"
   },
   "outputs": [
    {
     "data": {
      "text/plain": [
       "(5342, 237)"
      ]
     },
     "execution_count": 115,
     "metadata": {
      "tags": []
     },
     "output_type": "execute_result"
    }
   ],
   "source": [
    "X_test.shape"
   ]
  },
  {
   "cell_type": "code",
   "execution_count": 116,
   "metadata": {
    "colab": {
     "base_uri": "https://localhost:8080/",
     "height": 34
    },
    "colab_type": "code",
    "id": "M3W4edDGl6dm",
    "outputId": "d0bf31d8-95ba-43d2-a26e-ad4e9ce996b7"
   },
   "outputs": [
    {
     "data": {
      "text/plain": [
       "(21367,)"
      ]
     },
     "execution_count": 116,
     "metadata": {
      "tags": []
     },
     "output_type": "execute_result"
    }
   ],
   "source": [
    "y_train.shape"
   ]
  },
  {
   "cell_type": "code",
   "execution_count": 117,
   "metadata": {
    "colab": {
     "base_uri": "https://localhost:8080/",
     "height": 34
    },
    "colab_type": "code",
    "id": "LWTOZECZl9Is",
    "outputId": "63aff5d1-4790-434e-bf60-7c1eadf140f8"
   },
   "outputs": [
    {
     "data": {
      "text/plain": [
       "(5342,)"
      ]
     },
     "execution_count": 117,
     "metadata": {
      "tags": []
     },
     "output_type": "execute_result"
    }
   ],
   "source": [
    "y_test.shape"
   ]
  },
  {
   "cell_type": "markdown",
   "metadata": {
    "colab_type": "text",
    "id": "9WznPem9mLoj"
   },
   "source": [
    "# Create and Compile your Model \n",
    "\n",
    "Model 1 : Fully connected Neural Network\n",
    "\n",
    "Model 2 : Sequential LSTM\n",
    "\n",
    "Model 3 : Bidirectional LSTM"
   ]
  },
  {
   "cell_type": "markdown",
   "metadata": {
    "colab_type": "text",
    "id": "NBJAudvJfKNe"
   },
   "source": [
    "**Model 1: Fully Connected Neural Network**\n",
    "\n",
    "> model1_300d : Fully Connected Neural Network with 300 Dimensions Glove Embeddings\n",
    "\n",
    "> model1_200d : Fully Connected Neural Network with 200 Dimensions Glove Embeddings\n",
    "\n",
    "> model1_100d : Fully Connected Neural Network with 100 Dimensions Glove Embeddings\n",
    "\n",
    "> model1_50d : Fully Connected Neural Network with 50 Dimensions Glove Embeddings"
   ]
  },
  {
   "cell_type": "markdown",
   "metadata": {
    "colab_type": "text",
    "id": "jjCtQCq5iX4V"
   },
   "source": [
    "**model1_300d : Fully Connected Neural Network with 300 Dimensions Glove Embeddings**"
   ]
  },
  {
   "cell_type": "code",
   "execution_count": 118,
   "metadata": {
    "colab": {
     "base_uri": "https://localhost:8080/",
     "height": 319
    },
    "colab_type": "code",
    "id": "aiNUnVYEfJrt",
    "outputId": "f12ce2a8-b1fd-497e-b732-bbb384d878a7"
   },
   "outputs": [
    {
     "name": "stdout",
     "output_type": "stream",
     "text": [
      "Model: \"sequential\"\n",
      "_________________________________________________________________\n",
      "Layer (type)                 Output Shape              Param #   \n",
      "=================================================================\n",
      "embedding (Embedding)        (None, 237, 300)          8520000   \n",
      "_________________________________________________________________\n",
      "flatten (Flatten)            (None, 71100)             0         \n",
      "_________________________________________________________________\n",
      "dense (Dense)                (None, 50)                3555050   \n",
      "_________________________________________________________________\n",
      "dense_1 (Dense)              (None, 10)                510       \n",
      "_________________________________________________________________\n",
      "dense_2 (Dense)              (None, 1)                 11        \n",
      "=================================================================\n",
      "Total params: 12,075,571\n",
      "Trainable params: 12,075,571\n",
      "Non-trainable params: 0\n",
      "_________________________________________________________________\n"
     ]
    }
   ],
   "source": [
    "import tensorflow\n",
    "tensorflow.compat.v1.reset_default_graph()                                                                                  # Reseting the Graph\n",
    "model1_300d=Sequential()\n",
    "model1_300d.add(Embedding(vocabulary_size, embedding_size_300d, weights = [embedding_matrix_300d], input_length=max(temp))) # Embedding Layer\n",
    "model1_300d.add(Flatten())                                                                                                  # Flatten\n",
    "model1_300d.add(Dense(50, activation='relu'))                                                                               # Adding dense layer\n",
    "model1_300d.add(Dense(10,activation='relu'))                                                                                # Adding dense layer\n",
    "model1_300d.add(Dense(1, activation='sigmoid'))                                                                             # Adding dense layer\n",
    "model1_300d.summary()"
   ]
  },
  {
   "cell_type": "code",
   "execution_count": 0,
   "metadata": {
    "colab": {},
    "colab_type": "code",
    "id": "Shud1kwKKMRx"
   },
   "outputs": [],
   "source": [
    "model1_300d.compile(optimizer='sgd', loss='categorical_crossentropy', metrics=['accuracy']) "
   ]
  },
  {
   "cell_type": "code",
   "execution_count": 120,
   "metadata": {
    "colab": {
     "base_uri": "https://localhost:8080/",
     "height": 185
    },
    "colab_type": "code",
    "id": "5fKO-uJ3Yvt9",
    "outputId": "fd987c6f-13ff-422e-ce0a-4ad3fceb3fa8"
   },
   "outputs": [
    {
     "name": "stdout",
     "output_type": "stream",
     "text": [
      "Epoch 1/5\n",
      "214/214 [==============================] - 5s 25ms/step - loss: 5.2501e-08 - accuracy: 0.5372 - val_loss: 5.1707e-08 - val_accuracy: 0.5453\n",
      "Epoch 2/5\n",
      "214/214 [==============================] - 5s 25ms/step - loss: 5.2493e-08 - accuracy: 0.5372 - val_loss: 5.1707e-08 - val_accuracy: 0.5453\n",
      "Epoch 3/5\n",
      "214/214 [==============================] - 5s 25ms/step - loss: 5.2495e-08 - accuracy: 0.5372 - val_loss: 5.1707e-08 - val_accuracy: 0.5453\n",
      "Epoch 4/5\n",
      "214/214 [==============================] - 5s 24ms/step - loss: 5.2495e-08 - accuracy: 0.5372 - val_loss: 5.1707e-08 - val_accuracy: 0.5453\n",
      "Epoch 5/5\n",
      "214/214 [==============================] - 5s 25ms/step - loss: 5.2484e-08 - accuracy: 0.5372 - val_loss: 5.1707e-08 - val_accuracy: 0.5453\n"
     ]
    }
   ],
   "source": [
    "history = model1_300d.fit(X_train, y_train, epochs=5, batch_size=100, validation_data=(X_test, y_test), verbose=1)"
   ]
  },
  {
   "cell_type": "code",
   "execution_count": 121,
   "metadata": {
    "colab": {
     "base_uri": "https://localhost:8080/",
     "height": 34
    },
    "colab_type": "code",
    "id": "ZpVkajCcWnRK",
    "outputId": "6e766be9-bed8-47f7-ca76-a90dadeea6dd"
   },
   "outputs": [
    {
     "name": "stdout",
     "output_type": "stream",
     "text": [
      "Accuracy: 54.530138\n"
     ]
    }
   ],
   "source": [
    "loss, accuracy = model1_300d.evaluate(X_test, y_test, verbose=0)\n",
    "print('Accuracy: %f' % (accuracy*100))"
   ]
  },
  {
   "cell_type": "code",
   "execution_count": 0,
   "metadata": {
    "colab": {},
    "colab_type": "code",
    "id": "wWJFB6EyAiVK"
   },
   "outputs": [],
   "source": [
    "# Training and Validation Accuracy is too low."
   ]
  },
  {
   "cell_type": "markdown",
   "metadata": {
    "colab_type": "text",
    "id": "XUZFY7wIm99v"
   },
   "source": [
    "**model1_200d : Fully Connected Neural Network with 200 Dimensions Glove Embeddings**"
   ]
  },
  {
   "cell_type": "code",
   "execution_count": 123,
   "metadata": {
    "colab": {
     "base_uri": "https://localhost:8080/",
     "height": 319
    },
    "colab_type": "code",
    "id": "_4Bxma81nAHh",
    "outputId": "e92e1a3c-9dea-466c-d7ce-0e7f1f6cff8a"
   },
   "outputs": [
    {
     "name": "stdout",
     "output_type": "stream",
     "text": [
      "Model: \"sequential\"\n",
      "_________________________________________________________________\n",
      "Layer (type)                 Output Shape              Param #   \n",
      "=================================================================\n",
      "embedding (Embedding)        (None, 237, 200)          5680000   \n",
      "_________________________________________________________________\n",
      "flatten (Flatten)            (None, 47400)             0         \n",
      "_________________________________________________________________\n",
      "dense (Dense)                (None, 50)                2370050   \n",
      "_________________________________________________________________\n",
      "dense_1 (Dense)              (None, 10)                510       \n",
      "_________________________________________________________________\n",
      "dense_2 (Dense)              (None, 1)                 11        \n",
      "=================================================================\n",
      "Total params: 8,050,571\n",
      "Trainable params: 8,050,571\n",
      "Non-trainable params: 0\n",
      "_________________________________________________________________\n"
     ]
    }
   ],
   "source": [
    "tensorflow.compat.v1.reset_default_graph()                                                                                 # Reseting the Graph\n",
    "model1_200d=Sequential()\n",
    "model1_200d.add(Embedding(vocabulary_size, embedding_size_200d, weights = [embedding_matrix_200d],input_length=max(temp))) # Embedding Layer\n",
    "model1_200d.add(Flatten())                                                                                                 # Flatten\n",
    "model1_200d.add(Dense(50, activation='relu'))                                                                              # Adding dense layer\n",
    "model1_200d.add(Dense(10,activation='relu'))                                                                               # Adding dense layer\n",
    "model1_200d.add(Dense(1, activation='sigmoid'))                                                                            # Adding dense layer\n",
    "model1_200d.summary()"
   ]
  },
  {
   "cell_type": "code",
   "execution_count": 0,
   "metadata": {
    "colab": {},
    "colab_type": "code",
    "id": "E--8lyYDnALx"
   },
   "outputs": [],
   "source": [
    "model1_200d.compile(optimizer='sgd', loss='categorical_crossentropy', metrics=['accuracy'])"
   ]
  },
  {
   "cell_type": "code",
   "execution_count": 125,
   "metadata": {
    "colab": {
     "base_uri": "https://localhost:8080/",
     "height": 185
    },
    "colab_type": "code",
    "id": "4MLG_Fey-uxm",
    "outputId": "0bfbb690-1781-4758-c5a5-48e0a26c4674"
   },
   "outputs": [
    {
     "name": "stdout",
     "output_type": "stream",
     "text": [
      "Epoch 1/5\n",
      "214/214 [==============================] - 4s 18ms/step - loss: 5.2476e-08 - accuracy: 0.4761 - val_loss: 5.1707e-08 - val_accuracy: 0.4826\n",
      "Epoch 2/5\n",
      "214/214 [==============================] - 4s 18ms/step - loss: 5.2487e-08 - accuracy: 0.4761 - val_loss: 5.1707e-08 - val_accuracy: 0.4826\n",
      "Epoch 3/5\n",
      "214/214 [==============================] - 4s 18ms/step - loss: 5.2501e-08 - accuracy: 0.4761 - val_loss: 5.1707e-08 - val_accuracy: 0.4826\n",
      "Epoch 4/5\n",
      "214/214 [==============================] - 4s 18ms/step - loss: 5.2482e-08 - accuracy: 0.4761 - val_loss: 5.1707e-08 - val_accuracy: 0.4826\n",
      "Epoch 5/5\n",
      "214/214 [==============================] - 4s 18ms/step - loss: 5.2482e-08 - accuracy: 0.4761 - val_loss: 5.1707e-08 - val_accuracy: 0.4826\n"
     ]
    }
   ],
   "source": [
    "history = model1_200d.fit(X_train, y_train, epochs=5, batch_size=100, validation_data=(X_test, y_test), verbose=1)"
   ]
  },
  {
   "cell_type": "code",
   "execution_count": 126,
   "metadata": {
    "colab": {
     "base_uri": "https://localhost:8080/",
     "height": 34
    },
    "colab_type": "code",
    "id": "nNgr4NK0nAQf",
    "outputId": "40cb28d5-1ff0-4afe-c153-ec9bc92052e2"
   },
   "outputs": [
    {
     "name": "stdout",
     "output_type": "stream",
     "text": [
      "Accuracy: 48.259079\n"
     ]
    }
   ],
   "source": [
    "loss, accuracy = model1_200d.evaluate(X_test, y_test, verbose=0)\n",
    "print('Accuracy: %f' % (accuracy*100))"
   ]
  },
  {
   "cell_type": "code",
   "execution_count": 0,
   "metadata": {
    "colab": {},
    "colab_type": "code",
    "id": "z5QgVfg1As5W"
   },
   "outputs": [],
   "source": [
    "# Training and Validation Accuracy is too low."
   ]
  },
  {
   "cell_type": "markdown",
   "metadata": {
    "colab_type": "text",
    "id": "GYHKq5Vo-KVc"
   },
   "source": [
    "**model1_100d : Fully Connected Neural Network with 100 Dimensions Glove Embeddings**"
   ]
  },
  {
   "cell_type": "code",
   "execution_count": 128,
   "metadata": {
    "colab": {
     "base_uri": "https://localhost:8080/",
     "height": 319
    },
    "colab_type": "code",
    "id": "dfA6E5hEnAXU",
    "outputId": "16a889c0-7414-4c32-ccf5-e5edd79def5a"
   },
   "outputs": [
    {
     "name": "stdout",
     "output_type": "stream",
     "text": [
      "Model: \"sequential\"\n",
      "_________________________________________________________________\n",
      "Layer (type)                 Output Shape              Param #   \n",
      "=================================================================\n",
      "embedding (Embedding)        (None, 237, 100)          2840000   \n",
      "_________________________________________________________________\n",
      "flatten (Flatten)            (None, 23700)             0         \n",
      "_________________________________________________________________\n",
      "dense (Dense)                (None, 50)                1185050   \n",
      "_________________________________________________________________\n",
      "dense_1 (Dense)              (None, 10)                510       \n",
      "_________________________________________________________________\n",
      "dense_2 (Dense)              (None, 1)                 11        \n",
      "=================================================================\n",
      "Total params: 4,025,571\n",
      "Trainable params: 4,025,571\n",
      "Non-trainable params: 0\n",
      "_________________________________________________________________\n"
     ]
    }
   ],
   "source": [
    "tensorflow.compat.v1.reset_default_graph()                                                                                 # Resetting the Graph\n",
    "model1_100d=Sequential()\n",
    "model1_100d.add(Embedding(vocabulary_size, embedding_size_100d, weights = [embedding_matrix_100d],input_length=max(temp))) # Embedding Layer\n",
    "model1_100d.add(Flatten())                                                                                                 # Flatten\n",
    "model1_100d.add(Dense(50, activation='relu'))                                                                              # Adding dense layer\n",
    "model1_100d.add(Dense(10,activation='relu'))                                                                               # Adding dense layer\n",
    "model1_100d.add(Dense(1, activation='sigmoid'))                                                                            # Adding dense layer\n",
    "model1_100d.summary()"
   ]
  },
  {
   "cell_type": "code",
   "execution_count": 0,
   "metadata": {
    "colab": {},
    "colab_type": "code",
    "id": "FeMajTk3nAbv"
   },
   "outputs": [],
   "source": [
    "model1_100d.compile(optimizer='sgd', loss='categorical_crossentropy', metrics=['accuracy'])"
   ]
  },
  {
   "cell_type": "code",
   "execution_count": 130,
   "metadata": {
    "colab": {
     "base_uri": "https://localhost:8080/",
     "height": 185
    },
    "colab_type": "code",
    "id": "erpLuEpjnAgk",
    "outputId": "496997ff-1675-47c1-cef0-943f34332ba4"
   },
   "outputs": [
    {
     "name": "stdout",
     "output_type": "stream",
     "text": [
      "Epoch 1/5\n",
      "214/214 [==============================] - 3s 13ms/step - loss: 5.2476e-08 - accuracy: 0.5091 - val_loss: 5.1707e-08 - val_accuracy: 0.5172\n",
      "Epoch 2/5\n",
      "214/214 [==============================] - 3s 12ms/step - loss: 5.2490e-08 - accuracy: 0.5091 - val_loss: 5.1707e-08 - val_accuracy: 0.5172\n",
      "Epoch 3/5\n",
      "214/214 [==============================] - 3s 12ms/step - loss: 5.2493e-08 - accuracy: 0.5091 - val_loss: 5.1707e-08 - val_accuracy: 0.5172\n",
      "Epoch 4/5\n",
      "214/214 [==============================] - 3s 12ms/step - loss: 5.2482e-08 - accuracy: 0.5091 - val_loss: 5.1707e-08 - val_accuracy: 0.5172\n",
      "Epoch 5/5\n",
      "214/214 [==============================] - 3s 12ms/step - loss: 5.2482e-08 - accuracy: 0.5091 - val_loss: 5.1707e-08 - val_accuracy: 0.5172\n"
     ]
    }
   ],
   "source": [
    "history = model1_100d.fit(X_train, y_train, epochs=5, batch_size=100, validation_data=(X_test, y_test), verbose=1)"
   ]
  },
  {
   "cell_type": "code",
   "execution_count": 131,
   "metadata": {
    "colab": {
     "base_uri": "https://localhost:8080/",
     "height": 34
    },
    "colab_type": "code",
    "id": "-v5h27bnnAk-",
    "outputId": "20a69a9d-3bd9-4be8-f34d-8dcd9649900d"
   },
   "outputs": [
    {
     "name": "stdout",
     "output_type": "stream",
     "text": [
      "Accuracy: 51.722199\n"
     ]
    }
   ],
   "source": [
    "loss, accuracy = model1_100d.evaluate(X_test, y_test, verbose=0)\n",
    "print('Accuracy: %f' % (accuracy*100))"
   ]
  },
  {
   "cell_type": "code",
   "execution_count": 0,
   "metadata": {
    "colab": {},
    "colab_type": "code",
    "id": "Oh3ILADTAyfJ"
   },
   "outputs": [],
   "source": [
    "# Training and Validation Accuracy is too low."
   ]
  },
  {
   "cell_type": "markdown",
   "metadata": {
    "colab_type": "text",
    "id": "nAmRzynz_UUd"
   },
   "source": [
    "**model1_50d : Fully Connected Neural Network with 50 Dimensions Glove Embeddings**"
   ]
  },
  {
   "cell_type": "code",
   "execution_count": 133,
   "metadata": {
    "colab": {
     "base_uri": "https://localhost:8080/",
     "height": 319
    },
    "colab_type": "code",
    "id": "syrVsd3PnAjp",
    "outputId": "186967ca-1156-4a2d-d7f8-26a24f7fc3d7"
   },
   "outputs": [
    {
     "name": "stdout",
     "output_type": "stream",
     "text": [
      "Model: \"sequential\"\n",
      "_________________________________________________________________\n",
      "Layer (type)                 Output Shape              Param #   \n",
      "=================================================================\n",
      "embedding (Embedding)        (None, 237, 50)           1420000   \n",
      "_________________________________________________________________\n",
      "flatten (Flatten)            (None, 11850)             0         \n",
      "_________________________________________________________________\n",
      "dense (Dense)                (None, 50)                592550    \n",
      "_________________________________________________________________\n",
      "dense_1 (Dense)              (None, 10)                510       \n",
      "_________________________________________________________________\n",
      "dense_2 (Dense)              (None, 1)                 11        \n",
      "=================================================================\n",
      "Total params: 2,013,071\n",
      "Trainable params: 2,013,071\n",
      "Non-trainable params: 0\n",
      "_________________________________________________________________\n"
     ]
    }
   ],
   "source": [
    "tensorflow.compat.v1.reset_default_graph()                                                                              # Resetting the Graph\n",
    "model1_50d=Sequential()\n",
    "model1_50d.add(Embedding(vocabulary_size, embedding_size_50d, weights = [embedding_matrix_50d],input_length=max(temp))) # Embedding Layer\n",
    "model1_50d.add(Flatten())                                                                                               # Flatten\n",
    "model1_50d.add(Dense(50, activation='relu'))                                                                            # Adding dense layer\n",
    "model1_50d.add(Dense(10,activation='relu'))                                                                             # Adding dense layer\n",
    "model1_50d.add(Dense(1, activation='sigmoid'))                                                                          # Adding dense layer\n",
    "model1_50d.summary()"
   ]
  },
  {
   "cell_type": "code",
   "execution_count": 0,
   "metadata": {
    "colab": {},
    "colab_type": "code",
    "id": "YMgAvBV_nAfa"
   },
   "outputs": [],
   "source": [
    "model1_50d.compile(optimizer='sgd', loss='categorical_crossentropy', metrics=['accuracy'])"
   ]
  },
  {
   "cell_type": "code",
   "execution_count": 135,
   "metadata": {
    "colab": {
     "base_uri": "https://localhost:8080/",
     "height": 185
    },
    "colab_type": "code",
    "id": "EOHcCjAYL6kh",
    "outputId": "20d77add-bcad-4873-9bd8-8c216aa3190d"
   },
   "outputs": [
    {
     "name": "stdout",
     "output_type": "stream",
     "text": [
      "Epoch 1/5\n",
      "214/214 [==============================] - 2s 9ms/step - loss: 5.2484e-08 - accuracy: 0.5262 - val_loss: 5.1707e-08 - val_accuracy: 0.5165\n",
      "Epoch 2/5\n",
      "214/214 [==============================] - 2s 8ms/step - loss: 5.2498e-08 - accuracy: 0.5262 - val_loss: 5.1707e-08 - val_accuracy: 0.5165\n",
      "Epoch 3/5\n",
      "214/214 [==============================] - 2s 8ms/step - loss: 5.2504e-08 - accuracy: 0.5262 - val_loss: 5.1707e-08 - val_accuracy: 0.5165\n",
      "Epoch 4/5\n",
      "214/214 [==============================] - 2s 8ms/step - loss: 5.2487e-08 - accuracy: 0.5262 - val_loss: 5.1707e-08 - val_accuracy: 0.5165\n",
      "Epoch 5/5\n",
      "214/214 [==============================] - 2s 8ms/step - loss: 5.2468e-08 - accuracy: 0.5262 - val_loss: 5.1707e-08 - val_accuracy: 0.5165\n"
     ]
    }
   ],
   "source": [
    "history = model1_50d.fit(X_train, y_train, epochs=5, batch_size=100, validation_data=(X_test, y_test), verbose=1)"
   ]
  },
  {
   "cell_type": "code",
   "execution_count": 136,
   "metadata": {
    "colab": {
     "base_uri": "https://localhost:8080/",
     "height": 34
    },
    "colab_type": "code",
    "id": "N6MvDlWXnAac",
    "outputId": "a9557fd6-ce18-4cf8-8a03-f91bd77a57dd"
   },
   "outputs": [
    {
     "name": "stdout",
     "output_type": "stream",
     "text": [
      "Accuracy: 51.647323\n"
     ]
    }
   ],
   "source": [
    "loss, accuracy = model1_50d.evaluate(X_test, y_test, verbose=0)\n",
    "print('Accuracy: %f' % (accuracy*100))"
   ]
  },
  {
   "cell_type": "code",
   "execution_count": 0,
   "metadata": {
    "colab": {},
    "colab_type": "code",
    "id": "5D3aZZW-A8-q"
   },
   "outputs": [],
   "source": [
    "# Training and Validation Accuracy is too low."
   ]
  },
  {
   "cell_type": "markdown",
   "metadata": {
    "colab_type": "text",
    "id": "W8qKe_5tIpv2"
   },
   "source": [
    "**Model 2: Sequential LSTM Model**\n",
    "\n",
    "> model2_300d : Sequential LSTM Model with 300 Dimensions Glove Embeddings\n",
    "\n",
    "> model2_200d : Sequential LSTM Model with 200 Dimensions Glove Embeddings\n",
    "\n",
    "> model2_100d : Sequential LSTM Model with 100 Dimensions Glove Embeddings\n",
    "\n",
    "> model2_50d : Sequential LSTM Model with 50 Dimensions Glove Embeddings"
   ]
  },
  {
   "cell_type": "markdown",
   "metadata": {
    "colab_type": "text",
    "id": "W9CET8yiJWQB"
   },
   "source": [
    "**model2_300d : Sequential LSTM Model with 300 Dimensions Glove Embeddings**"
   ]
  },
  {
   "cell_type": "code",
   "execution_count": 138,
   "metadata": {
    "colab": {
     "base_uri": "https://localhost:8080/",
     "height": 252
    },
    "colab_type": "code",
    "id": "C3YlYyMeIdEZ",
    "outputId": "538927d7-c2a1-41e7-89ac-b6f44951365c"
   },
   "outputs": [
    {
     "name": "stdout",
     "output_type": "stream",
     "text": [
      "Model: \"sequential\"\n",
      "_________________________________________________________________\n",
      "Layer (type)                 Output Shape              Param #   \n",
      "=================================================================\n",
      "embedding (Embedding)        (None, 237, 300)          8520000   \n",
      "_________________________________________________________________\n",
      "lstm (LSTM)                  (None, 100)               160400    \n",
      "_________________________________________________________________\n",
      "dense (Dense)                (None, 1)                 101       \n",
      "=================================================================\n",
      "Total params: 8,680,501\n",
      "Trainable params: 8,680,501\n",
      "Non-trainable params: 0\n",
      "_________________________________________________________________\n"
     ]
    }
   ],
   "source": [
    "tensorflow.compat.v1.reset_default_graph()                                                                                      # Reseting the Graph\n",
    "model2_300d=Sequential()\n",
    "model2_300d.add(Embedding(vocabulary_size, embedding_size_300d, weights = [embedding_matrix_300d],input_length=max(temp)))      # Embedding Layer\n",
    "model2_300d.add(LSTM(units=100))                                                                                                # LSTM Layer \n",
    "model2_300d.add(Dense(1, activation='sigmoid'))                                                                                 # Adding Dense Layer\n",
    "model2_300d.summary()"
   ]
  },
  {
   "cell_type": "code",
   "execution_count": 0,
   "metadata": {
    "colab": {},
    "colab_type": "code",
    "id": "Rky_uAquIdJz"
   },
   "outputs": [],
   "source": [
    "model2_300d.compile(optimizer='sgd', loss='categorical_crossentropy', metrics=['accuracy'])"
   ]
  },
  {
   "cell_type": "code",
   "execution_count": 140,
   "metadata": {
    "colab": {
     "base_uri": "https://localhost:8080/",
     "height": 185
    },
    "colab_type": "code",
    "id": "rzKClLLWIdM9",
    "outputId": "f09c4525-4c77-48b2-f786-d934a54faa71"
   },
   "outputs": [
    {
     "name": "stdout",
     "output_type": "stream",
     "text": [
      "Epoch 1/5\n",
      "214/214 [==============================] - 9s 43ms/step - loss: 5.2484e-08 - accuracy: 0.4577 - val_loss: 5.1707e-08 - val_accuracy: 0.4526\n",
      "Epoch 2/5\n",
      "214/214 [==============================] - 8s 40ms/step - loss: 5.2501e-08 - accuracy: 0.4577 - val_loss: 5.1707e-08 - val_accuracy: 0.4526\n",
      "Epoch 3/5\n",
      "214/214 [==============================] - 9s 40ms/step - loss: 5.2471e-08 - accuracy: 0.4577 - val_loss: 5.1707e-08 - val_accuracy: 0.4526\n",
      "Epoch 4/5\n",
      "214/214 [==============================] - 9s 40ms/step - loss: 5.2504e-08 - accuracy: 0.4577 - val_loss: 5.1707e-08 - val_accuracy: 0.4526\n",
      "Epoch 5/5\n",
      "214/214 [==============================] - 8s 39ms/step - loss: 5.2471e-08 - accuracy: 0.4577 - val_loss: 5.1707e-08 - val_accuracy: 0.4526\n"
     ]
    }
   ],
   "source": [
    "history = model2_300d.fit(X_train, y_train, epochs=5, batch_size=100, validation_data=(X_test, y_test), verbose=1)"
   ]
  },
  {
   "cell_type": "code",
   "execution_count": 141,
   "metadata": {
    "colab": {
     "base_uri": "https://localhost:8080/",
     "height": 34
    },
    "colab_type": "code",
    "id": "cmcpvsUWIdQC",
    "outputId": "d56d74ff-b03c-4e49-c921-4e018060c929"
   },
   "outputs": [
    {
     "name": "stdout",
     "output_type": "stream",
     "text": [
      "Accuracy: 45.263946\n"
     ]
    }
   ],
   "source": [
    "loss, accuracy = model2_300d.evaluate(X_test, y_test, verbose=0)\n",
    "print('Accuracy: %f' % (accuracy*100))"
   ]
  },
  {
   "cell_type": "code",
   "execution_count": 0,
   "metadata": {
    "colab": {},
    "colab_type": "code",
    "id": "-DdJzwo8BAa5"
   },
   "outputs": [],
   "source": [
    "# Training and Validation Accuracy is too low."
   ]
  },
  {
   "cell_type": "markdown",
   "metadata": {
    "colab_type": "text",
    "id": "t9Tb9uchM4NW"
   },
   "source": [
    "**model2_200d : Sequential LSTM Model with 200 Dimensions Glove Embeddings**"
   ]
  },
  {
   "cell_type": "code",
   "execution_count": 143,
   "metadata": {
    "colab": {
     "base_uri": "https://localhost:8080/",
     "height": 252
    },
    "colab_type": "code",
    "id": "iDnrCJ0oIdWJ",
    "outputId": "9cafe156-2457-4893-bbbd-59d44a5b0e4e"
   },
   "outputs": [
    {
     "name": "stdout",
     "output_type": "stream",
     "text": [
      "Model: \"sequential\"\n",
      "_________________________________________________________________\n",
      "Layer (type)                 Output Shape              Param #   \n",
      "=================================================================\n",
      "embedding (Embedding)        (None, 237, 200)          5680000   \n",
      "_________________________________________________________________\n",
      "lstm (LSTM)                  (None, 100)               120400    \n",
      "_________________________________________________________________\n",
      "dense (Dense)                (None, 1)                 101       \n",
      "=================================================================\n",
      "Total params: 5,800,501\n",
      "Trainable params: 5,800,501\n",
      "Non-trainable params: 0\n",
      "_________________________________________________________________\n"
     ]
    }
   ],
   "source": [
    "tensorflow.compat.v1.reset_default_graph()                                                                                  # Reseting the Graph\n",
    "model2_200d=Sequential()\n",
    "model2_200d.add(Embedding(vocabulary_size, embedding_size_200d, weights = [embedding_matrix_200d],input_length=max(temp)))  # Embedding Layer\n",
    "model2_200d.add(LSTM(units=100))                                                                                            # LSTM Layer \n",
    "model2_200d.add(Dense(1, activation='sigmoid'))                                                                             # Adding Dense Layer\n",
    "model2_200d.summary()"
   ]
  },
  {
   "cell_type": "code",
   "execution_count": 0,
   "metadata": {
    "colab": {},
    "colab_type": "code",
    "id": "94knRmzgIdZu"
   },
   "outputs": [],
   "source": [
    "model2_200d.compile(optimizer='sgd', loss='categorical_crossentropy', metrics=['accuracy'])"
   ]
  },
  {
   "cell_type": "code",
   "execution_count": 145,
   "metadata": {
    "colab": {
     "base_uri": "https://localhost:8080/",
     "height": 185
    },
    "colab_type": "code",
    "id": "mHOIr7EkIdc8",
    "outputId": "4242a72b-444c-45d3-b1c7-3ffe8f9c4616"
   },
   "outputs": [
    {
     "name": "stdout",
     "output_type": "stream",
     "text": [
      "Epoch 1/5\n",
      "214/214 [==============================] - 7s 34ms/step - loss: 5.2490e-08 - accuracy: 0.4516 - val_loss: 5.1707e-08 - val_accuracy: 0.4446\n",
      "Epoch 2/5\n",
      "214/214 [==============================] - 7s 32ms/step - loss: 5.2473e-08 - accuracy: 0.4516 - val_loss: 5.1707e-08 - val_accuracy: 0.4446\n",
      "Epoch 3/5\n",
      "214/214 [==============================] - 7s 32ms/step - loss: 5.2479e-08 - accuracy: 0.4516 - val_loss: 5.1707e-08 - val_accuracy: 0.4446\n",
      "Epoch 4/5\n",
      "214/214 [==============================] - 7s 33ms/step - loss: 5.2484e-08 - accuracy: 0.4516 - val_loss: 5.1707e-08 - val_accuracy: 0.4446\n",
      "Epoch 5/5\n",
      "214/214 [==============================] - 7s 32ms/step - loss: 5.2487e-08 - accuracy: 0.4516 - val_loss: 5.1707e-08 - val_accuracy: 0.4446\n"
     ]
    }
   ],
   "source": [
    "history = model2_200d.fit(X_train, y_train, epochs=5, batch_size=100, validation_data=(X_test, y_test), verbose=1)"
   ]
  },
  {
   "cell_type": "code",
   "execution_count": 146,
   "metadata": {
    "colab": {
     "base_uri": "https://localhost:8080/",
     "height": 34
    },
    "colab_type": "code",
    "id": "VbBxChB7IdhP",
    "outputId": "3ddfcfec-07d3-479b-efd7-5604b76bd4c9"
   },
   "outputs": [
    {
     "name": "stdout",
     "output_type": "stream",
     "text": [
      "Accuracy: 44.459003\n"
     ]
    }
   ],
   "source": [
    "loss, accuracy = model2_200d.evaluate(X_test, y_test, verbose=0)\n",
    "print('Accuracy: %f' % (accuracy*100))"
   ]
  },
  {
   "cell_type": "code",
   "execution_count": 0,
   "metadata": {
    "colab": {},
    "colab_type": "code",
    "id": "QGUrf_xRBCv5"
   },
   "outputs": [],
   "source": [
    "# Training and Validation Accuracy is too low."
   ]
  },
  {
   "cell_type": "markdown",
   "metadata": {
    "colab_type": "text",
    "id": "MHxrJxfXOlDj"
   },
   "source": [
    "**model2_100d : Sequential LSTM Model with 100 Dimensions Glove Embeddings**"
   ]
  },
  {
   "cell_type": "code",
   "execution_count": 148,
   "metadata": {
    "colab": {
     "base_uri": "https://localhost:8080/",
     "height": 252
    },
    "colab_type": "code",
    "id": "TqmC7ZL0nAKF",
    "outputId": "69300fc7-80ed-4e01-a3b2-83a2c3abf07f"
   },
   "outputs": [
    {
     "name": "stdout",
     "output_type": "stream",
     "text": [
      "Model: \"sequential\"\n",
      "_________________________________________________________________\n",
      "Layer (type)                 Output Shape              Param #   \n",
      "=================================================================\n",
      "embedding (Embedding)        (None, 237, 100)          2840000   \n",
      "_________________________________________________________________\n",
      "lstm (LSTM)                  (None, 100)               80400     \n",
      "_________________________________________________________________\n",
      "dense (Dense)                (None, 1)                 101       \n",
      "=================================================================\n",
      "Total params: 2,920,501\n",
      "Trainable params: 2,920,501\n",
      "Non-trainable params: 0\n",
      "_________________________________________________________________\n"
     ]
    }
   ],
   "source": [
    "tensorflow.compat.v1.reset_default_graph()                                                                                  # Resetting the Graph\n",
    "model2_100d=Sequential()\n",
    "model2_100d.add(Embedding(vocabulary_size, embedding_size_100d, weights = [embedding_matrix_100d],input_length=max(temp)))  # Embedding Layer\n",
    "model2_100d.add(LSTM(units=100))                                                                                            # LSTM Layer\n",
    "model2_100d.add(Dense(1, activation='sigmoid'))                                                                             # Adding Dense Layer\n",
    "model2_100d.summary()"
   ]
  },
  {
   "cell_type": "code",
   "execution_count": 0,
   "metadata": {
    "colab": {},
    "colab_type": "code",
    "id": "rDwDsfYmM7yD"
   },
   "outputs": [],
   "source": [
    "model2_100d.compile(optimizer='sgd', loss='categorical_crossentropy', metrics=['accuracy'])"
   ]
  },
  {
   "cell_type": "code",
   "execution_count": 150,
   "metadata": {
    "colab": {
     "base_uri": "https://localhost:8080/",
     "height": 185
    },
    "colab_type": "code",
    "id": "vHu7s1QXM71H",
    "outputId": "bb6349a1-9c9d-4ba6-9174-1db6bdca10ec"
   },
   "outputs": [
    {
     "name": "stdout",
     "output_type": "stream",
     "text": [
      "Epoch 1/5\n",
      "214/214 [==============================] - 6s 27ms/step - loss: 5.2484e-08 - accuracy: 0.5656 - val_loss: 5.1707e-08 - val_accuracy: 0.5676\n",
      "Epoch 2/5\n",
      "214/214 [==============================] - 5s 25ms/step - loss: 5.2468e-08 - accuracy: 0.5656 - val_loss: 5.1707e-08 - val_accuracy: 0.5676\n",
      "Epoch 3/5\n",
      "214/214 [==============================] - 5s 25ms/step - loss: 5.2512e-08 - accuracy: 0.5656 - val_loss: 5.1707e-08 - val_accuracy: 0.5676\n",
      "Epoch 4/5\n",
      "214/214 [==============================] - 5s 25ms/step - loss: 5.2501e-08 - accuracy: 0.5656 - val_loss: 5.1707e-08 - val_accuracy: 0.5676\n",
      "Epoch 5/5\n",
      "214/214 [==============================] - 5s 25ms/step - loss: 5.2473e-08 - accuracy: 0.5656 - val_loss: 5.1707e-08 - val_accuracy: 0.5676\n"
     ]
    }
   ],
   "source": [
    "history = model2_100d.fit(X_train, y_train, epochs=5, batch_size=100, validation_data=(X_test, y_test), verbose=1)"
   ]
  },
  {
   "cell_type": "code",
   "execution_count": 151,
   "metadata": {
    "colab": {
     "base_uri": "https://localhost:8080/",
     "height": 34
    },
    "colab_type": "code",
    "id": "NO63wTK4M75v",
    "outputId": "124d5448-5a5e-49ab-dc99-1929e79527c7"
   },
   "outputs": [
    {
     "name": "stdout",
     "output_type": "stream",
     "text": [
      "Accuracy: 56.757766\n"
     ]
    }
   ],
   "source": [
    "loss, accuracy = model2_100d.evaluate(X_test, y_test, verbose=0)\n",
    "print('Accuracy: %f' % (accuracy*100))"
   ]
  },
  {
   "cell_type": "code",
   "execution_count": 0,
   "metadata": {
    "colab": {},
    "colab_type": "code",
    "id": "dlhUbQcgBHbV"
   },
   "outputs": [],
   "source": [
    "# Training and Validation Accuracy is too low."
   ]
  },
  {
   "cell_type": "markdown",
   "metadata": {
    "colab_type": "text",
    "id": "zKESumIBNuJ6"
   },
   "source": [
    "**model2_50d : Sequential LSTM Model with 50 Dimensions Glove Embeddings**"
   ]
  },
  {
   "cell_type": "code",
   "execution_count": 153,
   "metadata": {
    "colab": {
     "base_uri": "https://localhost:8080/",
     "height": 252
    },
    "colab_type": "code",
    "id": "wrNjFGWuM8FG",
    "outputId": "4fba5be7-c208-46d7-fff7-dde94cd09779"
   },
   "outputs": [
    {
     "name": "stdout",
     "output_type": "stream",
     "text": [
      "Model: \"sequential\"\n",
      "_________________________________________________________________\n",
      "Layer (type)                 Output Shape              Param #   \n",
      "=================================================================\n",
      "embedding (Embedding)        (None, 237, 50)           1420000   \n",
      "_________________________________________________________________\n",
      "lstm (LSTM)                  (None, 100)               60400     \n",
      "_________________________________________________________________\n",
      "dense (Dense)                (None, 1)                 101       \n",
      "=================================================================\n",
      "Total params: 1,480,501\n",
      "Trainable params: 1,480,501\n",
      "Non-trainable params: 0\n",
      "_________________________________________________________________\n"
     ]
    }
   ],
   "source": [
    "tensorflow.compat.v1.reset_default_graph()                                                                                   # Resetting the Graph\n",
    "model2_50d=Sequential()\n",
    "model2_50d.add(Embedding(vocabulary_size, embedding_size_50d, weights = [embedding_matrix_50d],input_length=max(temp)))      # Embedding Layer\n",
    "model2_50d.add(LSTM(units=100))                                                                                              # LSTM Layer\n",
    "model2_50d.add(Dense(1, activation='sigmoid'))                                                                               # Adding Dense Layer\n",
    "model2_50d.summary()"
   ]
  },
  {
   "cell_type": "code",
   "execution_count": 0,
   "metadata": {
    "colab": {},
    "colab_type": "code",
    "id": "h26TqFskOtiu"
   },
   "outputs": [],
   "source": [
    "model2_50d.compile(optimizer='sgd', loss='categorical_crossentropy', metrics=['accuracy'])"
   ]
  },
  {
   "cell_type": "code",
   "execution_count": 155,
   "metadata": {
    "colab": {
     "base_uri": "https://localhost:8080/",
     "height": 185
    },
    "colab_type": "code",
    "id": "CyJukx5HOtmf",
    "outputId": "bd6e6182-ee23-4b9f-91d9-8e4d07c3445a"
   },
   "outputs": [
    {
     "name": "stdout",
     "output_type": "stream",
     "text": [
      "Epoch 1/5\n",
      "214/214 [==============================] - 5s 23ms/step - loss: 5.2484e-08 - accuracy: 0.5562 - val_loss: 5.1707e-08 - val_accuracy: 0.5629\n",
      "Epoch 2/5\n",
      "214/214 [==============================] - 5s 21ms/step - loss: 5.2468e-08 - accuracy: 0.5562 - val_loss: 5.1707e-08 - val_accuracy: 0.5629\n",
      "Epoch 3/5\n",
      "214/214 [==============================] - 5s 21ms/step - loss: 5.2482e-08 - accuracy: 0.5562 - val_loss: 5.1707e-08 - val_accuracy: 0.5629\n",
      "Epoch 4/5\n",
      "214/214 [==============================] - 5s 21ms/step - loss: 5.2493e-08 - accuracy: 0.5562 - val_loss: 5.1707e-08 - val_accuracy: 0.5629\n",
      "Epoch 5/5\n",
      "214/214 [==============================] - 5s 21ms/step - loss: 5.2498e-08 - accuracy: 0.5562 - val_loss: 5.1707e-08 - val_accuracy: 0.5629\n"
     ]
    }
   ],
   "source": [
    "history = model2_50d.fit(X_train, y_train, epochs=5, batch_size=100, validation_data=(X_test, y_test), verbose=1)"
   ]
  },
  {
   "cell_type": "code",
   "execution_count": 156,
   "metadata": {
    "colab": {
     "base_uri": "https://localhost:8080/",
     "height": 34
    },
    "colab_type": "code",
    "id": "Yzq-YB-0OtqX",
    "outputId": "4ce572e6-76f7-462c-9145-5007e916bc07"
   },
   "outputs": [
    {
     "name": "stdout",
     "output_type": "stream",
     "text": [
      "Accuracy: 56.289780\n"
     ]
    }
   ],
   "source": [
    "loss, accuracy = model2_50d.evaluate(X_test, y_test, verbose=0)\n",
    "print('Accuracy: %f' % (accuracy*100))"
   ]
  },
  {
   "cell_type": "code",
   "execution_count": 0,
   "metadata": {
    "colab": {},
    "colab_type": "code",
    "id": "2V5scz2gBNM5"
   },
   "outputs": [],
   "source": [
    "# Training and Validation Accuracy is too low."
   ]
  },
  {
   "cell_type": "markdown",
   "metadata": {
    "colab_type": "text",
    "id": "u7IbWuEX82Ra"
   },
   "source": [
    "## Create and Compile your Model\n",
    "Hint - Use Sequential model instance and then add Embedding layer, Bidirectional(LSTM) layer, then dense and dropout layers as required. \n",
    "In the end add a final dense layer with sigmoid activation for binary classification.\n"
   ]
  },
  {
   "cell_type": "markdown",
   "metadata": {
    "colab_type": "text",
    "id": "dmnvbuylpbD-"
   },
   "source": [
    "**Model 3 : Bidirectional LSTM Model**\n",
    "\n",
    "> model3_300d : Sequential LSTM Model with 300 Dimensions Glove Embeddings\n",
    "\n",
    "> model3_200d : Sequential LSTM Model with 200 Dimensions Glove Embeddings\n",
    "\n",
    "> model3_100d : Sequential LSTM Model with 100 Dimensions Glove Embeddings\n",
    "\n",
    "> model3_50d : Sequential LSTM Model with 50 Dimensions Glove Embeddings"
   ]
  },
  {
   "cell_type": "markdown",
   "metadata": {
    "colab_type": "text",
    "id": "Vn4dV3pEqnC2"
   },
   "source": [
    "**model3_300d : Bidirectional LSTM Model with 300 Dimensions Glove Embeddings**"
   ]
  },
  {
   "cell_type": "code",
   "execution_count": 158,
   "metadata": {
    "colab": {
     "base_uri": "https://localhost:8080/",
     "height": 403
    },
    "colab_type": "code",
    "id": "7QVeEJaLpkSN",
    "outputId": "c4c87f92-52a2-4fcb-b49e-fb68e153a26b"
   },
   "outputs": [
    {
     "name": "stdout",
     "output_type": "stream",
     "text": [
      "WARNING:tensorflow:Layer lstm will not use cuDNN kernel since it doesn't meet the cuDNN kernel criteria. It will use generic GPU kernel as fallback when running on GPU\n",
      "WARNING:tensorflow:Layer lstm will not use cuDNN kernel since it doesn't meet the cuDNN kernel criteria. It will use generic GPU kernel as fallback when running on GPU\n",
      "WARNING:tensorflow:Layer lstm will not use cuDNN kernel since it doesn't meet the cuDNN kernel criteria. It will use generic GPU kernel as fallback when running on GPU\n",
      "Model: \"sequential\"\n",
      "_________________________________________________________________\n",
      "Layer (type)                 Output Shape              Param #   \n",
      "=================================================================\n",
      "embedding (Embedding)        (None, 237, 300)          8520000   \n",
      "_________________________________________________________________\n",
      "bidirectional (Bidirectional (None, 237, 200)          320800    \n",
      "_________________________________________________________________\n",
      "time_distributed (TimeDistri (None, 237, 100)          20100     \n",
      "_________________________________________________________________\n",
      "flatten (Flatten)            (None, 23700)             0         \n",
      "_________________________________________________________________\n",
      "dense_1 (Dense)              (None, 100)               2370100   \n",
      "_________________________________________________________________\n",
      "dense_2 (Dense)              (None, 1)                 101       \n",
      "=================================================================\n",
      "Total params: 11,231,101\n",
      "Trainable params: 11,231,101\n",
      "Non-trainable params: 0\n",
      "_________________________________________________________________\n"
     ]
    }
   ],
   "source": [
    "tensorflow.compat.v1.reset_default_graph()                                                                                    # Resetting the Graph\n",
    "model3_300d=Sequential()\n",
    "model3_300d.add(Embedding(vocabulary_size, embedding_size_300d, weights = [embedding_matrix_300d], input_length=max(temp)))   # Embedding Layer\n",
    "model3_300d.add(Bidirectional(LSTM(units=100, return_sequences=True, recurrent_dropout=0.1)))                                 # Bi-directional LSTM layer\n",
    "model3_300d.add(TimeDistributed(Dense(100,activation='relu')))                                                                # Time Distributed Dense Layer\n",
    "model3_300d.add(Flatten())                                                                                                    # Flatten  \n",
    "model3_300d.add(Dense(100,activation='relu'))                                                                                 # Adding Dense Layer\n",
    "model3_300d.add(Dense(1,activation='sigmoid'))                                                                                # Adding Dense Layer\n",
    "model3_300d.summary()"
   ]
  },
  {
   "cell_type": "code",
   "execution_count": 0,
   "metadata": {
    "colab": {},
    "colab_type": "code",
    "id": "IZ39HrTJpkdO"
   },
   "outputs": [],
   "source": [
    "model3_300d.compile(loss='binary_crossentropy', optimizer='adam', metrics=['accuracy'])"
   ]
  },
  {
   "cell_type": "markdown",
   "metadata": {
    "colab_type": "text",
    "id": "IJFMxZwMWoTw"
   },
   "source": [
    "### Fit your model with a batch size of 100 and validation_split = 0.2. and state the validation accuracy\n"
   ]
  },
  {
   "cell_type": "code",
   "execution_count": 160,
   "metadata": {
    "colab": {
     "base_uri": "https://localhost:8080/",
     "height": 185
    },
    "colab_type": "code",
    "id": "sLBlQmeJqSF_",
    "outputId": "a58a7e43-a0dc-494e-fdf0-0ff089bd9f38"
   },
   "outputs": [
    {
     "name": "stdout",
     "output_type": "stream",
     "text": [
      "Epoch 1/5\n",
      "214/214 [==============================] - 307s 1s/step - loss: 0.4063 - accuracy: 0.8076 - val_loss: 0.3161 - val_accuracy: 0.8665\n",
      "Epoch 2/5\n",
      "214/214 [==============================] - 303s 1s/step - loss: 0.2198 - accuracy: 0.9108 - val_loss: 0.2956 - val_accuracy: 0.8723\n",
      "Epoch 3/5\n",
      "214/214 [==============================] - 304s 1s/step - loss: 0.1190 - accuracy: 0.9563 - val_loss: 0.3441 - val_accuracy: 0.8729\n",
      "Epoch 4/5\n",
      "214/214 [==============================] - 305s 1s/step - loss: 0.0619 - accuracy: 0.9785 - val_loss: 0.4731 - val_accuracy: 0.8650\n",
      "Epoch 5/5\n",
      "214/214 [==============================] - 309s 1s/step - loss: 0.0311 - accuracy: 0.9891 - val_loss: 0.5891 - val_accuracy: 0.8706\n"
     ]
    }
   ],
   "source": [
    "history = model3_300d.fit(X_train, y_train, epochs=5, batch_size=100, validation_data=(X_test, y_test), verbose=1)"
   ]
  },
  {
   "cell_type": "markdown",
   "metadata": {
    "colab_type": "text",
    "id": "Xln08QvwkR_Y"
   },
   "source": [
    "Accuracy Report"
   ]
  },
  {
   "cell_type": "code",
   "execution_count": 161,
   "metadata": {
    "colab": {
     "base_uri": "https://localhost:8080/",
     "height": 34
    },
    "colab_type": "code",
    "id": "iX5J6mD5OAYi",
    "outputId": "0fcf2043-7a6b-499b-9874-b1b76d06fbef"
   },
   "outputs": [
    {
     "name": "stdout",
     "output_type": "stream",
     "text": [
      "Accuracy: 87.064767\n"
     ]
    }
   ],
   "source": [
    "loss, accuracy = model3_300d.evaluate(X_test, y_test, verbose=0)\n",
    "print('Accuracy: %f' % (accuracy*100))"
   ]
  },
  {
   "cell_type": "code",
   "execution_count": 0,
   "metadata": {
    "colab": {},
    "colab_type": "code",
    "id": "GWelnWRcLMT8"
   },
   "outputs": [],
   "source": [
    "y_predict = model3_300d.predict_classes(X_test)"
   ]
  },
  {
   "cell_type": "code",
   "execution_count": 163,
   "metadata": {
    "colab": {
     "base_uri": "https://localhost:8080/",
     "height": 67
    },
    "colab_type": "code",
    "id": "xS_5DqTsLTCY",
    "outputId": "6b7be515-9fd9-4ac0-85cd-3310b2f6bd43"
   },
   "outputs": [
    {
     "name": "stdout",
     "output_type": "stream",
     "text": [
      "Confusion Matrix\n",
      "[[2679  347]\n",
      " [ 344 1972]]\n"
     ]
    }
   ],
   "source": [
    "# Accuracy Report\n",
    "from sklearn import metrics\n",
    "Confusion_Matrix=(metrics.confusion_matrix(y_test,y_predict))\n",
    "print('Confusion Matrix')\n",
    "print(Confusion_Matrix)"
   ]
  },
  {
   "cell_type": "code",
   "execution_count": 164,
   "metadata": {
    "colab": {
     "base_uri": "https://localhost:8080/",
     "height": 185
    },
    "colab_type": "code",
    "id": "cHni44ziLYrx",
    "outputId": "13e40ba1-ba10-4f45-8f65-8da46dc14de6"
   },
   "outputs": [
    {
     "name": "stdout",
     "output_type": "stream",
     "text": [
      "Classification Report for each class level metrics : \n",
      "              precision    recall  f1-score   support\n",
      "\n",
      "           0       0.89      0.89      0.89      3026\n",
      "           1       0.85      0.85      0.85      2316\n",
      "\n",
      "    accuracy                           0.87      5342\n",
      "   macro avg       0.87      0.87      0.87      5342\n",
      "weighted avg       0.87      0.87      0.87      5342\n",
      "\n"
     ]
    }
   ],
   "source": [
    "from sklearn.metrics import classification_report\n",
    "print('Classification Report for each class level metrics : ')\n",
    "print(classification_report(y_test, y_predict))"
   ]
  },
  {
   "cell_type": "code",
   "execution_count": 0,
   "metadata": {
    "colab": {},
    "colab_type": "code",
    "id": "vskWJB6MLbBu"
   },
   "outputs": [],
   "source": [
    "# Function Defined to plot Accuracy \n",
    "def plot_accuracy(history, miny=None):\n",
    "  acc = history.history['accuracy']\n",
    "  test_acc = history.history['val_accuracy']\n",
    "  epochs = range(len(acc))\n",
    "  plt.plot(epochs, acc, label='Training Accuracy')\n",
    "  plt.plot(epochs, test_acc, label='Testing Accuracy')\n",
    "  if miny:\n",
    "    plt.ylim(miny, 1.0)\n",
    "  plt.title('accuracy') \n",
    "  plt.xlabel('epoch')\n",
    "  plt.legend()\n",
    "  plt.figure()"
   ]
  },
  {
   "cell_type": "code",
   "execution_count": 171,
   "metadata": {
    "colab": {
     "base_uri": "https://localhost:8080/",
     "height": 312
    },
    "colab_type": "code",
    "id": "nMS_DLo4LhKK",
    "outputId": "2bef7156-be67-47ff-da99-e2b4e3324e56"
   },
   "outputs": [
    {
     "data": {
      "image/png": "[encoded data removed]",
      "text/plain": [
       "<Figure size 432x288 with 1 Axes>"
      ]
     },
     "metadata": {
      "needs_background": "light",
      "tags": []
     },
     "output_type": "display_data"
    },
    {
     "data": {
      "text/plain": [
       "<Figure size 432x288 with 0 Axes>"
      ]
     },
     "metadata": {
      "tags": []
     },
     "output_type": "display_data"
    }
   ],
   "source": [
    "plot_accuracy(history)"
   ]
  },
  {
   "cell_type": "markdown",
   "metadata": {
    "colab_type": "text",
    "id": "H1abrUpOrAFl"
   },
   "source": [
    "**model3_200d : Bidirectional LSTM Model with 200 Dimensions Glove Embeddings**"
   ]
  },
  {
   "cell_type": "code",
   "execution_count": 172,
   "metadata": {
    "colab": {
     "base_uri": "https://localhost:8080/",
     "height": 403
    },
    "colab_type": "code",
    "id": "LeGabW1zrkV7",
    "outputId": "c93a14d6-b77d-4c4f-aa47-f0425e04e16f"
   },
   "outputs": [
    {
     "name": "stdout",
     "output_type": "stream",
     "text": [
      "WARNING:tensorflow:Layer lstm will not use cuDNN kernel since it doesn't meet the cuDNN kernel criteria. It will use generic GPU kernel as fallback when running on GPU\n",
      "WARNING:tensorflow:Layer lstm will not use cuDNN kernel since it doesn't meet the cuDNN kernel criteria. It will use generic GPU kernel as fallback when running on GPU\n",
      "WARNING:tensorflow:Layer lstm will not use cuDNN kernel since it doesn't meet the cuDNN kernel criteria. It will use generic GPU kernel as fallback when running on GPU\n",
      "Model: \"sequential\"\n",
      "_________________________________________________________________\n",
      "Layer (type)                 Output Shape              Param #   \n",
      "=================================================================\n",
      "embedding (Embedding)        (None, 237, 200)          5680000   \n",
      "_________________________________________________________________\n",
      "bidirectional (Bidirectional (None, 237, 200)          240800    \n",
      "_________________________________________________________________\n",
      "time_distributed (TimeDistri (None, 237, 100)          20100     \n",
      "_________________________________________________________________\n",
      "flatten (Flatten)            (None, 23700)             0         \n",
      "_________________________________________________________________\n",
      "dense_1 (Dense)              (None, 100)               2370100   \n",
      "_________________________________________________________________\n",
      "dense_2 (Dense)              (None, 1)                 101       \n",
      "=================================================================\n",
      "Total params: 8,311,101\n",
      "Trainable params: 8,311,101\n",
      "Non-trainable params: 0\n",
      "_________________________________________________________________\n"
     ]
    }
   ],
   "source": [
    "# Model Building\n",
    "tensorflow.compat.v1.reset_default_graph()                                                                                        # Resetting the Graph\n",
    "model3_200d=Sequential() \n",
    "model3_200d.add(Embedding(vocabulary_size, embedding_size_200d, weights = [embedding_matrix_200d], input_length=max(temp)))       # Embedding Layer\n",
    "model3_200d.add(Bidirectional(LSTM(units=100, return_sequences=True, recurrent_dropout=0.1)))                                     # Bi-directional LSTM layer\n",
    "model3_200d.add(TimeDistributed(Dense(100,activation='relu')))                                                                    # Time Distributed Dense Layer\n",
    "model3_200d.add(Flatten())                                                                                                        # Flatten\n",
    "model3_200d.add(Dense(100,activation='relu'))                                                                                     # Adding Dense Layer  \n",
    "model3_200d.add(Dense(1,activation='sigmoid'))                                                                                    # Adding Dense Layer\n",
    "model3_200d.summary()"
   ]
  },
  {
   "cell_type": "code",
   "execution_count": 0,
   "metadata": {
    "colab": {},
    "colab_type": "code",
    "id": "yJTteBlWrvvP"
   },
   "outputs": [],
   "source": [
    "model3_200d.compile(loss='binary_crossentropy', optimizer='adam', metrics=['accuracy'])"
   ]
  },
  {
   "cell_type": "markdown",
   "metadata": {
    "colab_type": "text",
    "id": "YBHfjVtrsQvJ"
   },
   "source": [
    "### Fit your model with a batch size of 100 and validation_split = 0.2. and state the validation accuracy\n"
   ]
  },
  {
   "cell_type": "code",
   "execution_count": 174,
   "metadata": {
    "colab": {
     "base_uri": "https://localhost:8080/",
     "height": 185
    },
    "colab_type": "code",
    "id": "ge2HLMExr1BT",
    "outputId": "46823829-a197-43f5-9408-7c3c7b66f919"
   },
   "outputs": [
    {
     "name": "stdout",
     "output_type": "stream",
     "text": [
      "Epoch 1/5\n",
      "214/214 [==============================] - 296s 1s/step - loss: 0.4176 - accuracy: 0.8033 - val_loss: 0.3324 - val_accuracy: 0.8559\n",
      "Epoch 2/5\n",
      "214/214 [==============================] - 293s 1s/step - loss: 0.2424 - accuracy: 0.9016 - val_loss: 0.3003 - val_accuracy: 0.8759\n",
      "Epoch 3/5\n",
      "214/214 [==============================] - 295s 1s/step - loss: 0.1481 - accuracy: 0.9450 - val_loss: 0.3526 - val_accuracy: 0.8602\n",
      "Epoch 4/5\n",
      "214/214 [==============================] - 293s 1s/step - loss: 0.0824 - accuracy: 0.9715 - val_loss: 0.4003 - val_accuracy: 0.8738\n",
      "Epoch 5/5\n",
      "214/214 [==============================] - 294s 1s/step - loss: 0.0441 - accuracy: 0.9849 - val_loss: 0.5483 - val_accuracy: 0.8686\n"
     ]
    }
   ],
   "source": [
    "history = model3_200d.fit(X_train, y_train, epochs=5, batch_size=100, validation_data=(X_test, y_test), verbose=1)"
   ]
  },
  {
   "cell_type": "markdown",
   "metadata": {
    "colab_type": "text",
    "id": "2r5zAsLDke9N"
   },
   "source": [
    "Accuracy Report"
   ]
  },
  {
   "cell_type": "code",
   "execution_count": 175,
   "metadata": {
    "colab": {
     "base_uri": "https://localhost:8080/",
     "height": 34
    },
    "colab_type": "code",
    "id": "DvsGVYCrr7Am",
    "outputId": "6c69f76a-7219-4e4f-99e0-0fa6d2c1a41f"
   },
   "outputs": [
    {
     "name": "stdout",
     "output_type": "stream",
     "text": [
      "Accuracy: 86.858857\n"
     ]
    }
   ],
   "source": [
    "loss, accuracy = model3_200d.evaluate(X_test, y_test, verbose=0)\n",
    "print('Accuracy: %f' % (accuracy*100))"
   ]
  },
  {
   "cell_type": "code",
   "execution_count": 0,
   "metadata": {
    "colab": {},
    "colab_type": "code",
    "id": "YZgTyfrzOxVG"
   },
   "outputs": [],
   "source": [
    "y_predict = model3_200d.predict_classes(X_test)"
   ]
  },
  {
   "cell_type": "code",
   "execution_count": 177,
   "metadata": {
    "colab": {
     "base_uri": "https://localhost:8080/",
     "height": 67
    },
    "colab_type": "code",
    "id": "ioNcmFSLOxZf",
    "outputId": "0ef058f7-d013-45a0-a6a0-18df4ea896b2"
   },
   "outputs": [
    {
     "name": "stdout",
     "output_type": "stream",
     "text": [
      "Confusion Matrix\n",
      "[[2653  373]\n",
      " [ 329 1987]]\n"
     ]
    }
   ],
   "source": [
    "# Accuracy Report\n",
    "from sklearn import metrics\n",
    "Confusion_Matrix=(metrics.confusion_matrix(y_test,y_predict))\n",
    "print('Confusion Matrix')\n",
    "print(Confusion_Matrix)"
   ]
  },
  {
   "cell_type": "code",
   "execution_count": 178,
   "metadata": {
    "colab": {
     "base_uri": "https://localhost:8080/",
     "height": 185
    },
    "colab_type": "code",
    "id": "CYineTRGOxeY",
    "outputId": "545da930-712f-4453-a129-df38ae7e3389"
   },
   "outputs": [
    {
     "name": "stdout",
     "output_type": "stream",
     "text": [
      "Classification Report for each class level metrics : \n",
      "              precision    recall  f1-score   support\n",
      "\n",
      "           0       0.89      0.88      0.88      3026\n",
      "           1       0.84      0.86      0.85      2316\n",
      "\n",
      "    accuracy                           0.87      5342\n",
      "   macro avg       0.87      0.87      0.87      5342\n",
      "weighted avg       0.87      0.87      0.87      5342\n",
      "\n"
     ]
    }
   ],
   "source": [
    "from sklearn.metrics import classification_report\n",
    "print('Classification Report for each class level metrics : ')\n",
    "print(classification_report(y_test, y_predict))"
   ]
  },
  {
   "cell_type": "code",
   "execution_count": 179,
   "metadata": {
    "colab": {
     "base_uri": "https://localhost:8080/",
     "height": 312
    },
    "colab_type": "code",
    "id": "CP3tCiFQOxpP",
    "outputId": "1b1e711f-f09b-4be9-f565-3d44fa69578e"
   },
   "outputs": [
    {
     "data": {
      "image/png": "[encoded data removed]",
      "text/plain": [
       "<Figure size 432x288 with 1 Axes>"
      ]
     },
     "metadata": {
      "needs_background": "light",
      "tags": []
     },
     "output_type": "display_data"
    },
    {
     "data": {
      "text/plain": [
       "<Figure size 432x288 with 0 Axes>"
      ]
     },
     "metadata": {
      "tags": []
     },
     "output_type": "display_data"
    }
   ],
   "source": [
    "plot_accuracy(history)"
   ]
  },
  {
   "cell_type": "markdown",
   "metadata": {
    "colab_type": "text",
    "id": "5IZHK3UIrARn"
   },
   "source": [
    "**model3_100d : Bidirectional LSTM Model with 100 Dimensions Glove Embeddings**"
   ]
  },
  {
   "cell_type": "code",
   "execution_count": 180,
   "metadata": {
    "colab": {
     "base_uri": "https://localhost:8080/",
     "height": 403
    },
    "colab_type": "code",
    "id": "GHZDa6yLsZGY",
    "outputId": "9165afe3-0866-451f-a15f-96d653514657"
   },
   "outputs": [
    {
     "name": "stdout",
     "output_type": "stream",
     "text": [
      "WARNING:tensorflow:Layer lstm will not use cuDNN kernel since it doesn't meet the cuDNN kernel criteria. It will use generic GPU kernel as fallback when running on GPU\n",
      "WARNING:tensorflow:Layer lstm will not use cuDNN kernel since it doesn't meet the cuDNN kernel criteria. It will use generic GPU kernel as fallback when running on GPU\n",
      "WARNING:tensorflow:Layer lstm will not use cuDNN kernel since it doesn't meet the cuDNN kernel criteria. It will use generic GPU kernel as fallback when running on GPU\n",
      "Model: \"sequential\"\n",
      "_________________________________________________________________\n",
      "Layer (type)                 Output Shape              Param #   \n",
      "=================================================================\n",
      "embedding (Embedding)        (None, 237, 100)          2840000   \n",
      "_________________________________________________________________\n",
      "bidirectional (Bidirectional (None, 237, 200)          160800    \n",
      "_________________________________________________________________\n",
      "time_distributed (TimeDistri (None, 237, 100)          20100     \n",
      "_________________________________________________________________\n",
      "flatten (Flatten)            (None, 23700)             0         \n",
      "_________________________________________________________________\n",
      "dense_1 (Dense)              (None, 100)               2370100   \n",
      "_________________________________________________________________\n",
      "dense_2 (Dense)              (None, 1)                 101       \n",
      "=================================================================\n",
      "Total params: 5,391,101\n",
      "Trainable params: 5,391,101\n",
      "Non-trainable params: 0\n",
      "_________________________________________________________________\n"
     ]
    }
   ],
   "source": [
    "# Model Building\n",
    "tensorflow.compat.v1.reset_default_graph()                                                                                   # Resetting the Graph\n",
    "model3_100d=Sequential()\n",
    "model3_100d.add(Embedding(vocabulary_size, embedding_size_100d, weights = [embedding_matrix_100d], input_length=max(temp)))  # Embedding Layer\n",
    "model3_100d.add(Bidirectional(LSTM(units=100, return_sequences=True, recurrent_dropout=0.1)))                                # Bi-directional LSTM layer\n",
    "model3_100d.add(TimeDistributed(Dense(100,activation='relu')))                                                               # Time Distributed Dense Layer\n",
    "model3_100d.add(Flatten())                                                                                                   # Flatten\n",
    "model3_100d.add(Dense(100,activation='relu'))                                                                                # Adding Dense Layer\n",
    "model3_100d.add(Dense(1,activation='sigmoid'))                                                                               # Adding Dense Layer\n",
    "model3_100d.summary()"
   ]
  },
  {
   "cell_type": "code",
   "execution_count": 0,
   "metadata": {
    "colab": {},
    "colab_type": "code",
    "id": "Eu9j4bExshjQ"
   },
   "outputs": [],
   "source": [
    "model3_100d.compile(loss='binary_crossentropy', optimizer='adam', metrics=['accuracy'])"
   ]
  },
  {
   "cell_type": "markdown",
   "metadata": {
    "colab_type": "text",
    "id": "pTDbDXUfstFp"
   },
   "source": [
    "### Fit your model with a batch size of 100 and validation_split = 0.2. and state the validation accuracy"
   ]
  },
  {
   "cell_type": "code",
   "execution_count": 182,
   "metadata": {
    "colab": {
     "base_uri": "https://localhost:8080/",
     "height": 185
    },
    "colab_type": "code",
    "id": "V5_d3P-TsldQ",
    "outputId": "2888f201-5484-47c6-d579-771b4bfbd5f1"
   },
   "outputs": [
    {
     "name": "stdout",
     "output_type": "stream",
     "text": [
      "Epoch 1/5\n",
      "214/214 [==============================] - 287s 1s/step - loss: 0.4360 - accuracy: 0.7934 - val_loss: 0.3488 - val_accuracy: 0.8474\n",
      "Epoch 2/5\n",
      "214/214 [==============================] - 288s 1s/step - loss: 0.2692 - accuracy: 0.8897 - val_loss: 0.3097 - val_accuracy: 0.8705\n",
      "Epoch 3/5\n",
      "214/214 [==============================] - 286s 1s/step - loss: 0.1840 - accuracy: 0.9282 - val_loss: 0.2967 - val_accuracy: 0.8765\n",
      "Epoch 4/5\n",
      "214/214 [==============================] - 292s 1s/step - loss: 0.1220 - accuracy: 0.9553 - val_loss: 0.3519 - val_accuracy: 0.8712\n",
      "Epoch 5/5\n",
      "214/214 [==============================] - 293s 1s/step - loss: 0.0747 - accuracy: 0.9737 - val_loss: 0.4575 - val_accuracy: 0.8757\n"
     ]
    }
   ],
   "source": [
    "history = model3_100d.fit(X_train, y_train, epochs=5, batch_size=100, validation_data=(X_test, y_test), verbose=1)"
   ]
  },
  {
   "cell_type": "markdown",
   "metadata": {
    "colab_type": "text",
    "id": "sx9kolGNkjfq"
   },
   "source": [
    "Accuracy Report"
   ]
  },
  {
   "cell_type": "code",
   "execution_count": 183,
   "metadata": {
    "colab": {
     "base_uri": "https://localhost:8080/",
     "height": 34
    },
    "colab_type": "code",
    "id": "apIpFaL8slhZ",
    "outputId": "00a2f2c8-565f-46ec-f4e6-43bbba3e293a"
   },
   "outputs": [
    {
     "name": "stdout",
     "output_type": "stream",
     "text": [
      "Accuracy: 87.570196\n"
     ]
    }
   ],
   "source": [
    "loss, accuracy = model3_100d.evaluate(X_test, y_test, verbose=0)\n",
    "print('Accuracy: %f' % (accuracy*100))"
   ]
  },
  {
   "cell_type": "code",
   "execution_count": 0,
   "metadata": {
    "colab": {},
    "colab_type": "code",
    "id": "1O3aYHYDslnp"
   },
   "outputs": [],
   "source": [
    "y_predict = model3_100d.predict_classes(X_test)"
   ]
  },
  {
   "cell_type": "code",
   "execution_count": 185,
   "metadata": {
    "colab": {
     "base_uri": "https://localhost:8080/",
     "height": 67
    },
    "colab_type": "code",
    "id": "L9RmLrksPAQk",
    "outputId": "abd3d794-752f-434d-f127-27a08e979d8d"
   },
   "outputs": [
    {
     "name": "stdout",
     "output_type": "stream",
     "text": [
      "Confusion Matrix\n",
      "[[2678  348]\n",
      " [ 316 2000]]\n"
     ]
    }
   ],
   "source": [
    "# Accuracy Report\n",
    "from sklearn import metrics\n",
    "Confusion_Matrix=(metrics.confusion_matrix(y_test,y_predict))\n",
    "print('Confusion Matrix')\n",
    "print(Confusion_Matrix)"
   ]
  },
  {
   "cell_type": "code",
   "execution_count": 186,
   "metadata": {
    "colab": {
     "base_uri": "https://localhost:8080/",
     "height": 185
    },
    "colab_type": "code",
    "id": "aQB9Q48VPAYX",
    "outputId": "85e8e9f3-8f95-43cf-c305-387bff788d05"
   },
   "outputs": [
    {
     "name": "stdout",
     "output_type": "stream",
     "text": [
      "Classification Report for each class level metrics : \n",
      "              precision    recall  f1-score   support\n",
      "\n",
      "           0       0.89      0.88      0.89      3026\n",
      "           1       0.85      0.86      0.86      2316\n",
      "\n",
      "    accuracy                           0.88      5342\n",
      "   macro avg       0.87      0.87      0.87      5342\n",
      "weighted avg       0.88      0.88      0.88      5342\n",
      "\n"
     ]
    }
   ],
   "source": [
    "from sklearn.metrics import classification_report\n",
    "print('Classification Report for each class level metrics : ')\n",
    "print(classification_report(y_test, y_predict))"
   ]
  },
  {
   "cell_type": "code",
   "execution_count": 187,
   "metadata": {
    "colab": {
     "base_uri": "https://localhost:8080/",
     "height": 312
    },
    "colab_type": "code",
    "id": "4viNtJ80PAoK",
    "outputId": "32a88851-957b-4809-849e-24b4e6ace280"
   },
   "outputs": [
    {
     "data": {
      "image/png": "[encoded data removed]",
      "text/plain": [
       "<Figure size 432x288 with 1 Axes>"
      ]
     },
     "metadata": {
      "needs_background": "light",
      "tags": []
     },
     "output_type": "display_data"
    },
    {
     "data": {
      "text/plain": [
       "<Figure size 432x288 with 0 Axes>"
      ]
     },
     "metadata": {
      "tags": []
     },
     "output_type": "display_data"
    }
   ],
   "source": [
    "plot_accuracy(history)"
   ]
  },
  {
   "cell_type": "markdown",
   "metadata": {
    "colab_type": "text",
    "id": "1O-U6o_xrAca"
   },
   "source": [
    "**model3_50d : Bidirectional LSTM Model with 50 Dimensions Glove Embeddings**"
   ]
  },
  {
   "cell_type": "code",
   "execution_count": 197,
   "metadata": {
    "colab": {
     "base_uri": "https://localhost:8080/",
     "height": 403
    },
    "colab_type": "code",
    "id": "uFmvQiGlOAkX",
    "outputId": "c023cfa1-8657-4073-ecf3-8603835ab1ae"
   },
   "outputs": [
    {
     "name": "stdout",
     "output_type": "stream",
     "text": [
      "WARNING:tensorflow:Layer lstm will not use cuDNN kernel since it doesn't meet the cuDNN kernel criteria. It will use generic GPU kernel as fallback when running on GPU\n",
      "WARNING:tensorflow:Layer lstm will not use cuDNN kernel since it doesn't meet the cuDNN kernel criteria. It will use generic GPU kernel as fallback when running on GPU\n",
      "WARNING:tensorflow:Layer lstm will not use cuDNN kernel since it doesn't meet the cuDNN kernel criteria. It will use generic GPU kernel as fallback when running on GPU\n",
      "Model: \"sequential\"\n",
      "_________________________________________________________________\n",
      "Layer (type)                 Output Shape              Param #   \n",
      "=================================================================\n",
      "embedding (Embedding)        (None, 237, 50)           1420000   \n",
      "_________________________________________________________________\n",
      "bidirectional (Bidirectional (None, 237, 200)          120800    \n",
      "_________________________________________________________________\n",
      "time_distributed (TimeDistri (None, 237, 100)          20100     \n",
      "_________________________________________________________________\n",
      "flatten (Flatten)            (None, 23700)             0         \n",
      "_________________________________________________________________\n",
      "dense_1 (Dense)              (None, 100)               2370100   \n",
      "_________________________________________________________________\n",
      "dense_2 (Dense)              (None, 1)                 101       \n",
      "=================================================================\n",
      "Total params: 3,931,101\n",
      "Trainable params: 3,931,101\n",
      "Non-trainable params: 0\n",
      "_________________________________________________________________\n"
     ]
    }
   ],
   "source": [
    "# Model Building\n",
    "tensorflow.compat.v1.reset_default_graph()                                                                                     # Resetting the Graph\n",
    "model3_50d=Sequential()\n",
    "model3_50d.add(Embedding(vocabulary_size, embedding_size_50d, weights = [embedding_matrix_50d], input_length=max(temp)))       # Embedding Layer\n",
    "model3_50d.add(Bidirectional(LSTM(units=100, return_sequences=True, recurrent_dropout=0.1)))                                   # Bi-directional LSTM layer\n",
    "model3_50d.add(TimeDistributed(Dense(100,activation='relu')))                                                                  # Time Distributed Dense Layer\n",
    "model3_50d.add(Flatten())                                                                                                      # Flatten\n",
    "model3_50d.add(Dense(100,activation='relu'))                                                                                   # Adding Dense Layer\n",
    "model3_50d.add(Dense(1,activation='sigmoid'))                                                                                  # Adding Dense Layer\n",
    "model3_50d.summary()"
   ]
  },
  {
   "cell_type": "code",
   "execution_count": 0,
   "metadata": {
    "colab": {},
    "colab_type": "code",
    "id": "6gqeAk2mOAbl"
   },
   "outputs": [],
   "source": [
    "model3_50d.compile(loss='binary_crossentropy', optimizer='adam', metrics=['accuracy'])"
   ]
  },
  {
   "cell_type": "code",
   "execution_count": 199,
   "metadata": {
    "colab": {
     "base_uri": "https://localhost:8080/",
     "height": 185
    },
    "colab_type": "code",
    "id": "azvwXzPedxER",
    "outputId": "0d826bb5-32f5-4fc8-c150-cd84bdfb86f7"
   },
   "outputs": [
    {
     "name": "stdout",
     "output_type": "stream",
     "text": [
      "Epoch 1/5\n",
      "214/214 [==============================] - 300s 1s/step - loss: 0.4864 - accuracy: 0.7558 - val_loss: 0.3783 - val_accuracy: 0.8325\n",
      "Epoch 2/5\n",
      "214/214 [==============================] - 301s 1s/step - loss: 0.3003 - accuracy: 0.8719 - val_loss: 0.3006 - val_accuracy: 0.8740\n",
      "Epoch 3/5\n",
      "214/214 [==============================] - 300s 1s/step - loss: 0.2091 - accuracy: 0.9159 - val_loss: 0.3269 - val_accuracy: 0.8677\n",
      "Epoch 4/5\n",
      "214/214 [==============================] - 302s 1s/step - loss: 0.1423 - accuracy: 0.9449 - val_loss: 0.3263 - val_accuracy: 0.8755\n",
      "Epoch 5/5\n",
      "214/214 [==============================] - 311s 1s/step - loss: 0.1022 - accuracy: 0.9627 - val_loss: 0.3944 - val_accuracy: 0.8677\n"
     ]
    }
   ],
   "source": [
    "history = model3_50d.fit(X_train, y_train, epochs=5, batch_size=100, validation_data=(X_test, y_test), verbose=1)"
   ]
  },
  {
   "cell_type": "markdown",
   "metadata": {
    "colab_type": "text",
    "id": "sHDFXY9zk0EQ"
   },
   "source": [
    "Accuracy Report"
   ]
  },
  {
   "cell_type": "code",
   "execution_count": 200,
   "metadata": {
    "colab": {
     "base_uri": "https://localhost:8080/",
     "height": 34
    },
    "colab_type": "code",
    "id": "sRwJ0l8Uuhpk",
    "outputId": "554843e1-f81a-448d-b84d-519780db66cc"
   },
   "outputs": [
    {
     "name": "stdout",
     "output_type": "stream",
     "text": [
      "Accuracy: 86.765254\n"
     ]
    }
   ],
   "source": [
    "loss, accuracy = model3_50d.evaluate(X_test, y_test, verbose=0)\n",
    "print('Accuracy: %f' % (accuracy*100))"
   ]
  },
  {
   "cell_type": "code",
   "execution_count": 0,
   "metadata": {
    "colab": {},
    "colab_type": "code",
    "id": "4JwI4BgPPWwd"
   },
   "outputs": [],
   "source": [
    "y_predict = model3_100d.predict_classes(X_test)"
   ]
  },
  {
   "cell_type": "code",
   "execution_count": 202,
   "metadata": {
    "colab": {
     "base_uri": "https://localhost:8080/",
     "height": 67
    },
    "colab_type": "code",
    "id": "AmCQfgPDPaZr",
    "outputId": "3855d059-76ed-4c76-d05f-a409ff5fbe9b"
   },
   "outputs": [
    {
     "name": "stdout",
     "output_type": "stream",
     "text": [
      "Confusion Matrix\n",
      "[[2678  348]\n",
      " [ 316 2000]]\n"
     ]
    }
   ],
   "source": [
    "# Accuracy Report\n",
    "from sklearn import metrics\n",
    "Confusion_Matrix=(metrics.confusion_matrix(y_test,y_predict))\n",
    "print('Confusion Matrix')\n",
    "print(Confusion_Matrix)"
   ]
  },
  {
   "cell_type": "code",
   "execution_count": 204,
   "metadata": {
    "colab": {
     "base_uri": "https://localhost:8080/",
     "height": 185
    },
    "colab_type": "code",
    "id": "0eW6MhIXPdlj",
    "outputId": "4deb83b1-3060-4624-f18e-a7ef6efc27cd"
   },
   "outputs": [
    {
     "name": "stdout",
     "output_type": "stream",
     "text": [
      "Classification Report for each class level metrics : \n",
      "              precision    recall  f1-score   support\n",
      "\n",
      "           0       0.89      0.88      0.89      3026\n",
      "           1       0.85      0.86      0.86      2316\n",
      "\n",
      "    accuracy                           0.88      5342\n",
      "   macro avg       0.87      0.87      0.87      5342\n",
      "weighted avg       0.88      0.88      0.88      5342\n",
      "\n"
     ]
    }
   ],
   "source": [
    "from sklearn.metrics import classification_report\n",
    "print('Classification Report for each class level metrics : ')\n",
    "print(classification_report(y_test, y_predict))"
   ]
  },
  {
   "cell_type": "code",
   "execution_count": 203,
   "metadata": {
    "colab": {
     "base_uri": "https://localhost:8080/",
     "height": 312
    },
    "colab_type": "code",
    "id": "LzelQ49JPgRD",
    "outputId": "640358d1-da90-48c1-f6d9-5d34ae1ad2f0"
   },
   "outputs": [
    {
     "data": {
      "image/png": "[encoded data removed]",
      "text/plain": [
       "<Figure size 432x288 with 1 Axes>"
      ]
     },
     "metadata": {
      "needs_background": "light",
      "tags": []
     },
     "output_type": "display_data"
    },
    {
     "data": {
      "text/plain": [
       "<Figure size 432x288 with 0 Axes>"
      ]
     },
     "metadata": {
      "tags": []
     },
     "output_type": "display_data"
    }
   ],
   "source": [
    "plot_accuracy(history)"
   ]
  },
  {
   "cell_type": "code",
   "execution_count": 0,
   "metadata": {
    "colab": {},
    "colab_type": "code",
    "id": "d4Q1DHFpTA4N"
   },
   "outputs": [],
   "source": [
    "# Comparative Accuracy Report\n",
    "# ===========================\n",
    "\n",
    "# ================|===============|=====================|=====================|=====================|====================|\n",
    "#     Model       |               |300d Glove Embeddings|200d Glove Embeddings|100d Glove Embeddings|50d Glove Embeddings|\n",
    "# ================|===============|=====================|=====================|=====================|====================|\n",
    "#                 | Model Name    |    model1_300d      |      model1_200d    |    model1_100d      |    model1_50d      | \n",
    "# Fully Connected | Training Acc  |      53.72 %        |        47.61 %      |     50.91 %         |      52.62 %       |\n",
    "# Neural Network  | Validation Acc|      54.53 %        |        48.26 %      |     51.72 %         |      51.65 %       |\n",
    "# ----------------|---------------|---------------------|---------------------|---------------------|--------------------|\n",
    "#                 | Model Name    |    model2_300d      |      model2_200d    |    model2_100d      |    model2_50d      | \n",
    "#  Sequential     | Training Acc  |      45.77 %        |        45.16 %      |      56.56 %        |      55.62 %       |\n",
    "#   LSTM          | Validation Acc|      45.26 %        |        44.46 %      |      56.76 %        |      56.29 %       |\n",
    "# ----------------|---------------|---------------------|---------------------|---------------------|--------------------|\n",
    "#                 | Model Name    |    model3_300d      |      model3_200d    |    model3_100d      |    model3_50d      | \n",
    "#  Bidirectional  | Training Acc  |      98.91 %        |        98.49 %      |      97.37 %        |      96.27 %       |\n",
    "#   LSTM          | Validation Acc|      87.06 %        |        86.86 %      |      87.57 %        |      86.77 %       |\n",
    "# ================|===============|=====================|=====================|=====================|====================|\n"
   ]
  },
  {
   "cell_type": "code",
   "execution_count": 0,
   "metadata": {
    "colab": {},
    "colab_type": "code",
    "id": "vC7vRXRClm-7"
   },
   "outputs": [],
   "source": [
    "# ******************************************************************************************************\n",
    "# Bidirectional LSTM Models performs better than other two models, but the computation time is larger **\n",
    "# ******************************************************************************************************"
   ]
  }
 ],
 "metadata": {
  "accelerator": "GPU",
  "colab": {
   "collapsed_sections": [],
   "name": "Solution_Sarcasm_Detection_Questions (1).ipynb",
   "provenance": []
  },
  "kernelspec": {
   "display_name": "Python 3",
   "language": "python",
   "name": "python3"
  },
  "language_info": {
   "codemirror_mode": {
    "name": "ipython",
    "version": 3
   },
   "file_extension": ".py",
   "mimetype": "text/x-python",
   "name": "python",
   "nbconvert_exporter": "python",
   "pygments_lexer": "ipython3",
   "version": "3.7.3"
  }
 },
 "nbformat": 4,
 "nbformat_minor": 1
}
